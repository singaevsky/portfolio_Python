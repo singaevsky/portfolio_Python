{
  "cells": [
    {
      "cell_type": "markdown",
      "metadata": {
        "id": "view-in-github",
        "colab_type": "text"
      },
      "source": [
        "<a href=\"https://colab.research.google.com/github/singaevsky/portfolio_Python/blob/main/bank_clients_research.ipynb\" target=\"_parent\"><img src=\"https://colab.research.google.com/assets/colab-badge.svg\" alt=\"Open In Colab\"/></a>"
      ]
    },
    {
      "cell_type": "markdown",
      "metadata": {
        "id": "IifpGhY25qzt"
      },
      "source": [
        "# Загрузка данных"
      ]
    },
    {
      "cell_type": "markdown",
      "metadata": {
        "id": "pF13Mgzc_KOl"
      },
      "source": [
        "Данные взяты с сайта kaggle\n",
        "[банковские транзакции](https://www.kaggle.com/datasets/shivamb/bank-customer-segmentation)"
      ]
    },
    {
      "cell_type": "code",
      "execution_count": null,
      "metadata": {
        "id": "-hGbDGun0BK4"
      },
      "outputs": [],
      "source": [
        "from google.colab import drive\n",
        "drive.mount('/content/drive')"
      ]
    },
    {
      "cell_type": "code",
      "execution_count": null,
      "metadata": {
        "id": "H2_HusIj4x6r"
      },
      "outputs": [],
      "source": [
        "import pandas as pd\n",
        "df = pd.read_csv('/content/drive/MyDrive/Zerocoding/Python+ChatGPT/PN14/bank_clients_transactions.csv')"
      ]
    },
    {
      "cell_type": "code",
      "execution_count": null,
      "metadata": {
        "id": "d5OuIch859Uz"
      },
      "outputs": [],
      "source": [
        "df"
      ]
    },
    {
      "cell_type": "code",
      "source": [
        "# Фильтруем строки, где CustGender не M и не F\n",
        "invalid_gender_rows = df[~df['custgender'].isin(['M', 'F'])]\n",
        "\n",
        "# Выводим результат\n",
        "print(\"Количество строк с некорректным полом:\", len(invalid_gender_rows))\n",
        "print(invalid_gender_rows[['custgender']])"
      ],
      "metadata": {
        "id": "_um9GQ9jD-uO"
      },
      "execution_count": null,
      "outputs": []
    },
    {
      "cell_type": "markdown",
      "metadata": {
        "id": "pRetML-V6JTR"
      },
      "source": [
        "# Приведение столбцов к стилю camel_case"
      ]
    },
    {
      "cell_type": "code",
      "execution_count": null,
      "metadata": {
        "id": "gJJWX6xt6T1m"
      },
      "outputs": [],
      "source": [
        "# 1. Приведение названий столбцов к camel_case\n",
        "# Функция для перевода в camelCase\n",
        "def to_camel_case(s):\n",
        "    parts = s.split()\n",
        "    return parts[0].lower() + ''.join(word.capitalize() for word in parts[1:])\n",
        "\n",
        "# Применяем к названиям столбцов\n",
        "df.columns = [to_camel_case(col.replace('_', ' ').title()) for col in df.columns]"
      ]
    },
    {
      "cell_type": "markdown",
      "metadata": {
        "id": "uMlYPMb86m5W"
      },
      "source": [
        "# Приведение типов данных"
      ]
    },
    {
      "cell_type": "code",
      "execution_count": null,
      "metadata": {
        "id": "qt1WFUwh70Wa"
      },
      "outputs": [],
      "source": [
        "# 2. Преобразование столбцов с датами в datetime\n",
        "# Укажем формат даты: ДД/ММ/ГГ\n",
        "date_format = \"%d/%m/%y\"\n",
        "\n",
        "# Преобразуем столбцы\n",
        "df['customerdob'] = pd.to_datetime(df['customerdob'], format=date_format, errors='coerce')\n",
        "df['transactiondate'] = pd.to_datetime(df['transactiondate'], format=date_format, errors='coerce')"
      ]
    },
    {
      "cell_type": "code",
      "execution_count": null,
      "metadata": {
        "id": "VOZUDCWC6r08"
      },
      "outputs": [],
      "source": [
        "df.info()"
      ]
    },
    {
      "cell_type": "markdown",
      "metadata": {
        "id": "swsLyun_6E5q"
      },
      "source": [
        "# Поиск дублей и пропусков в данных"
      ]
    },
    {
      "cell_type": "code",
      "execution_count": null,
      "metadata": {
        "id": "lKwRhfh55_uj"
      },
      "outputs": [],
      "source": [
        "# Общее количество дубликатных строк\n",
        "# Общее количество пропусков по столбцам\n",
        "print(df.isnull().sum())\n",
        "\n",
        "# Процент пропусков по столбцам\n",
        "print((df.isnull().mean() * 100).round(2))\n",
        "# Количество полных дубликатов\n",
        "duplicate_rows = df[df.duplicated()]\n",
        "print(f\"Количество дублированных строк: {len(duplicate_rows)}\")\n",
        "\n",
        "# Показать первые несколько дубликатов\n",
        "print(duplicate_rows.head())\n",
        "# Дубликаты по уникальному ключу\n",
        "duplicate_ids = df[df.duplicated('transactionid', keep=False)]\n",
        "\n",
        "print(f\"Количество дублированных ID: {len(duplicate_ids)}\")\n",
        "print(duplicate_ids.sort_values('transactionid').head())\n",
        "\n",
        "# Пример: проверяем пропуски по локации клиента\n",
        "missing_by_location = df.groupby('custlocation').apply(lambda x: x.isnull().mean())\n",
        "print(missing_by_location[['customerdob', 'transactiondate', 'custaccountbalance']])"
      ]
    },
    {
      "cell_type": "markdown",
      "metadata": {
        "id": "P9nxLkBt8AXm"
      },
      "source": [
        "# Исследовательский анализ данных"
      ]
    },
    {
      "cell_type": "code",
      "execution_count": null,
      "metadata": {
        "id": "SugVFrEdEaGM"
      },
      "outputs": [],
      "source": [
        "df"
      ]
    },
    {
      "cell_type": "code",
      "execution_count": null,
      "metadata": {
        "id": "HZkprOqt6SEo"
      },
      "outputs": [],
      "source": [
        "# сколько уникальных клиентов?\n",
        "unique_customers_count = df['customerid'].nunique()\n",
        "print(\"Количество уникальных клиентов:\", unique_customers_count)"
      ]
    },
    {
      "cell_type": "code",
      "execution_count": null,
      "metadata": {
        "id": "d-DRxme68JK6"
      },
      "outputs": [],
      "source": [
        "# какое количество транзакций было совершено?\n",
        "num_transactions = len(df)\n",
        "print(\"Количество транзакций:\", num_transactions)\n",
        "num_unique_transactions = df['transactionid'].nunique()\n",
        "print(\"Количество уникальных транзакций:\", num_unique_transactions)"
      ]
    },
    {
      "cell_type": "code",
      "execution_count": null,
      "metadata": {
        "id": "HDj6Lkbf8OOr"
      },
      "outputs": [],
      "source": [
        "# сколько в среднем транзакций приходится на одного клиента?\n",
        "# Общее число транзакций\n",
        "total_transactions = len(df)\n",
        "\n",
        "# Количество уникальных клиентов\n",
        "unique_customers = df['customerid'].nunique()\n",
        "\n",
        "# Среднее количество транзакций на клиента\n",
        "avg_transactions_per_customer = total_transactions / unique_customers\n",
        "\n",
        "print(\"Среднее количество транзакций на клиента:\", avg_transactions_per_customer)\n",
        "\n",
        "transactions_per_customer = df.groupby('customerid').size()\n",
        "average = transactions_per_customer.mean()\n",
        "\n",
        "print(f\"Среднее количество транзакций на клиента: {average:.2f}\")"
      ]
    },
    {
      "cell_type": "code",
      "execution_count": null,
      "metadata": {
        "id": "d90VRq498W3H"
      },
      "outputs": [],
      "source": [
        "# изучить распределение и размах величин CustAccountBalance и TransactionAmount\n",
        "# Для CustAccountBalance\n",
        "print(\"Статистика по custaccountbalance:\")\n",
        "print(df['custaccountbalance'].describe())\n",
        "\n",
        "# Для TransactionAmount\n",
        "print(\"\\nСтатистика по transactionamount:\")\n",
        "print(df['transactionamount(inr)'].describe())\n"
      ]
    },
    {
      "cell_type": "code",
      "execution_count": null,
      "metadata": {
        "id": "WRSwrwNu8ju7"
      },
      "outputs": [],
      "source": [
        "# изучить возраст клиентов (визуализировать)\n",
        "from datetime import datetime\n",
        "\n",
        "# Вычисляем возраст\n",
        "df['age'] = datetime.today().year - df['customerdob'].dt.year"
      ]
    },
    {
      "cell_type": "code",
      "source": [
        "import matplotlib.pyplot as plt\n",
        "import seaborn as sns\n",
        "\n",
        "plt.figure(figsize=(10, 6))\n",
        "sns.histplot(df['age'], bins=30, kde=True, color='skyblue')\n",
        "plt.title('Распределение возрастов клиентов', fontsize=14)\n",
        "plt.xlabel('Возраст', fontsize=12)\n",
        "plt.ylabel('Количество клиентов', fontsize=12)\n",
        "plt.grid(True)\n",
        "plt.show()"
      ],
      "metadata": {
        "id": "0AKV0W9W_8br"
      },
      "execution_count": null,
      "outputs": []
    },
    {
      "cell_type": "code",
      "source": [
        "plt.figure(figsize=(8, 6))\n",
        "sns.boxplot(x=df['age'], color='lightgreen')\n",
        "plt.title('Boxplot: Возраст клиентов', fontsize=14)\n",
        "plt.xlabel('Возраст', fontsize=12)\n",
        "plt.grid(True)\n",
        "plt.show()"
      ],
      "metadata": {
        "id": "4qEfKvGGAChP"
      },
      "execution_count": null,
      "outputs": []
    },
    {
      "cell_type": "code",
      "source": [
        "print(df['age'].describe())"
      ],
      "metadata": {
        "id": "b6M4lbUyAM9v"
      },
      "execution_count": null,
      "outputs": []
    },
    {
      "cell_type": "code",
      "source": [
        "from datetime import datetime\n",
        "\n",
        "# Вычисляем возраст\n",
        "df['age'] = datetime.today().year - df['customerdob'].dt.year\n",
        "\n",
        "# Или более точный способ с учетом месяца и дня:\n",
        "# df['age'] = (datetime.today() - df['customerDob']).dt.days // 365\n",
        "\n",
        "# Проверяем, есть ли отрицательные значения\n",
        "negative_ages = df[df['age'] < 0]\n",
        "print(\"Количество клиентов с отрицательным возрастом:\", len(negative_ages))\n",
        "print(negative_ages[['customerdob', 'age']].head())"
      ],
      "metadata": {
        "id": "DrwJXVkSAfq9"
      },
      "execution_count": null,
      "outputs": []
    },
    {
      "cell_type": "code",
      "source": [
        "# Определим текущую дату\n",
        "now = datetime.now()\n",
        "\n",
        "# Функция для коррекции года\n",
        "def fix_year(dob):\n",
        "    if dob > now:\n",
        "        # Вычитаем 100 лет, если дата в будущем\n",
        "        return dob.replace(year=dob.year - 100)\n",
        "    return dob\n",
        "\n",
        "# Применяем функцию\n",
        "df['customerdob'] = df['customerdob'].apply(fix_year)\n",
        "\n",
        "# Пересчитываем возраст после исправления\n",
        "df['age'] = datetime.today().year - df['customerdob'].dt.year"
      ],
      "metadata": {
        "id": "3EUFMqadBWGB"
      },
      "execution_count": null,
      "outputs": []
    },
    {
      "cell_type": "code",
      "source": [
        "# Проверяем, остались ли даты в будущем\n",
        "invalid_dobs_after = df[df['customerdob'] > datetime.today()]\n",
        "print(\"Остались ли даты в будущем после исправления?\")\n",
        "print(invalid_dobs_after[['customerdob', 'age']])\n",
        "negative_ages = df[df['age'] < 0]\n",
        "print(\"Количество клиентов с отрицательным возрастом:\", len(negative_ages))"
      ],
      "metadata": {
        "id": "5nsBrBMiBdYc"
      },
      "execution_count": null,
      "outputs": []
    },
    {
      "cell_type": "code",
      "source": [
        "import seaborn as sns\n",
        "import matplotlib.pyplot as plt\n",
        "\n",
        "plt.figure(figsize=(10, 6))\n",
        "sns.histplot(df['age'], bins=30, kde=True, color='teal')\n",
        "plt.title('Распределение возрастов клиентов (исправленное)', fontsize=14)\n",
        "plt.xlabel('Возраст', fontsize=12)\n",
        "plt.ylabel('Количество клиентов', fontsize=12)\n",
        "plt.grid(True)\n",
        "plt.show()"
      ],
      "metadata": {
        "id": "Wy8HzapSCCpz"
      },
      "execution_count": null,
      "outputs": []
    },
    {
      "cell_type": "code",
      "execution_count": null,
      "metadata": {
        "id": "YBz8X4Uj8vor"
      },
      "outputs": [],
      "source": [
        "# изучить пол клиентов (визуализировать)\n",
        "# Пример: приводим всё к 'Male' / 'Female'\n",
        "df = df.dropna(subset=['custgender'])\n",
        "df['custgender'] = df['custgender'].str.strip().str.lower()\n",
        "df['custgender'] = df['custgender'].replace({\n",
        "    'm': 'Male',\n",
        "    'f': 'Female',\n",
        "    'male': 'Male',\n",
        "    'female': 'Female'\n",
        "})\n",
        "print(df['custgender'].unique())  # ['Male' 'Female']\n",
        "# Оставляем только 'Male' и 'Female', удаляя всё остальное\n",
        "valid_genders = ['Male', 'Female']\n",
        "df = df[df['custgender'].isin(valid_genders)]\n",
        "\n",
        "gender_counts = df['custgender'].value_counts()\n",
        "print(gender_counts)"
      ]
    },
    {
      "cell_type": "code",
      "source": [
        "print(df['custgender'].value_counts(dropna=False))"
      ],
      "metadata": {
        "id": "LUtCF0veHKvk"
      },
      "execution_count": null,
      "outputs": []
    },
    {
      "cell_type": "code",
      "source": [
        "import matplotlib.pyplot as plt\n",
        "\n",
        "plt.figure(figsize=(6, 6))\n",
        "gender_counts.plot(kind='pie', autopct='%1.1f%%', colors=['skyblue', 'pink'], legend=False)\n",
        "plt.title('Распределение клиентов по полу')\n",
        "plt.ylabel('')\n",
        "plt.show()"
      ],
      "metadata": {
        "id": "I19Y9676DAHz"
      },
      "execution_count": null,
      "outputs": []
    },
    {
      "cell_type": "code",
      "source": [
        "plt.figure(figsize=(8, 5))\n",
        "sns.boxplot(x='custgender', y='age', data=df, palette='pastel')\n",
        "plt.title('Возраст клиентов по полу')\n",
        "plt.xlabel('Пол')\n",
        "plt.ylabel('Возраст')\n",
        "plt.grid(True)\n",
        "plt.show()"
      ],
      "metadata": {
        "id": "bEHNhpB1DGZw"
      },
      "execution_count": null,
      "outputs": []
    },
    {
      "cell_type": "code",
      "execution_count": null,
      "metadata": {
        "id": "9k4Iff8-83QD"
      },
      "outputs": [],
      "source": [
        "# изучить место жительства клиентов (визуализировать)\n",
        "print(df['custlocation'].unique())\n",
        "print(df['custlocation'].value_counts())"
      ]
    },
    {
      "cell_type": "code",
      "source": [
        "df['custlocation'] = df['custlocation'].str.strip().str.title()\n",
        "location_counts = df['custlocation'].value_counts()\n",
        "print(location_counts)"
      ],
      "metadata": {
        "id": "7sOaa4P1IdFd"
      },
      "execution_count": null,
      "outputs": []
    },
    {
      "cell_type": "code",
      "source": [
        "import matplotlib.pyplot as plt\n",
        "import seaborn as sns\n",
        "\n",
        "# Выбираем топ-10 городов для наглядности\n",
        "top_n = 10\n",
        "top_locations = location_counts.head(top_n)\n",
        "\n",
        "plt.figure(figsize=(10, 6))\n",
        "sns.barplot(x=top_locations.values, y=top_locations.index, palette='viridis')\n",
        "plt.title(f'Топ {top_n} городов по количеству клиентов')\n",
        "plt.xlabel('Количество клиентов')\n",
        "plt.ylabel('Город')\n",
        "plt.grid(True, axis='x', linestyle='--', alpha=0.7)\n",
        "plt.show()"
      ],
      "metadata": {
        "id": "axFFAFidIrim"
      },
      "execution_count": null,
      "outputs": []
    },
    {
      "cell_type": "code",
      "source": [
        "# Можно сделать только для топ-N, чтобы не перегружать график\n",
        "threshold = 5\n",
        "location_others = location_counts[location_counts / location_counts.sum() * 100 > threshold]\n",
        "others_sum = location_counts[location_counts / location_counts.sum() * 100 <= threshold].sum()\n",
        "\n",
        "if others_sum > 0:\n",
        "    location_others['Other'] = others_sum\n",
        "\n",
        "plt.figure(figsize=(8, 8))\n",
        "location_others.plot(kind='pie', autopct='%1.1f%%', startangle=140, colors=sns.color_palette('pastel'))\n",
        "plt.title('Распределение клиентов по месту жительства')\n",
        "plt.ylabel('')\n",
        "plt.show()"
      ],
      "metadata": {
        "id": "CSTcFg2PIv9n"
      },
      "execution_count": null,
      "outputs": []
    },
    {
      "cell_type": "code",
      "source": [
        "avg_age_by_location = df.groupby('custLocation')['age'].mean().sort_values(ascending=False).round(2)\n",
        "print(avg_age_by_location)"
      ],
      "metadata": {
        "id": "qmoUOCnGIxgV"
      },
      "execution_count": null,
      "outputs": []
    },
    {
      "cell_type": "code",
      "source": [
        "avg_amount_by_location = df.groupby('custlocation')['transactionamount(inr)'].mean().sort_values(ascending=False).round(2)\n",
        "print(avg_amount_by_location)"
      ],
      "metadata": {
        "id": "6fGCswANI3jf"
      },
      "execution_count": null,
      "outputs": []
    },
    {
      "cell_type": "code",
      "execution_count": null,
      "metadata": {
        "id": "WKQZskZ687wd"
      },
      "outputs": [],
      "source": [
        "# посмотреть динамику транзакций по дате (в кол-ве TransactionID)\n",
        "# Создаем временной ряд: количество транзакций по дням\n",
        "transactions_by_date = df.groupby(df['transactiondate'].dt.date)['transactionid'].count()\n",
        "\n",
        "# Преобразуем в Series или DataFrame для удобства\n",
        "transactions_by_date = transactions_by_date.rename('transactionsCount').reset_index()"
      ]
    },
    {
      "cell_type": "code",
      "source": [
        "import matplotlib.pyplot as plt\n",
        "import seaborn as sns\n",
        "\n",
        "plt.figure(figsize=(14, 6))\n",
        "sns.lineplot(x='transactiondate', y='transactionsCount', data=transactions_by_date, marker='o', linestyle='-')\n",
        "plt.title('Динамика количества транзакций по датам')\n",
        "plt.xlabel('Дата')\n",
        "plt.ylabel('Количество транзакций')\n",
        "plt.xticks(rotation=45)\n",
        "plt.tight_layout()\n",
        "plt.grid(True)\n",
        "plt.show()"
      ],
      "metadata": {
        "id": "gIZzWOQDKexX"
      },
      "execution_count": null,
      "outputs": []
    },
    {
      "cell_type": "code",
      "source": [
        "plt.figure(figsize=(14, 6))\n",
        "sns.barplot(x='transactiondate', y='transactionsCount', data=transactions_by_date, palette='Blues_d')\n",
        "plt.title('Количество транзакций по датам')\n",
        "plt.xlabel('Дата')\n",
        "plt.ylabel('Количество транзакций')\n",
        "plt.xticks(rotation=45)\n",
        "plt.tight_layout()\n",
        "plt.grid(True, axis='y', linestyle='--')\n",
        "plt.show()"
      ],
      "metadata": {
        "id": "xORqGx9LKn72"
      },
      "execution_count": null,
      "outputs": []
    },
    {
      "cell_type": "code",
      "source": [
        "# Группируем по месяцам\n",
        "df['transactionMonth'] = df['transactiondate'].dt.to_period('M')\n",
        "\n",
        "transactions_by_month = df.groupby(df['transactionMonth'])['transactionid'].count().reset_index(name='transactionsCount')\n",
        "\n",
        "# Приводим обратно к datetime для отрисовки\n",
        "transactions_by_month['transactionMonth'] = transactions_by_month['transactionMonth'].dt.to_timestamp()\n",
        "\n",
        "# Визуализация\n",
        "plt.figure(figsize=(12, 5))\n",
        "sns.lineplot(x='transactionMonth', y='transactionsCount', data=transactions_by_month, marker='o')\n",
        "plt.title('Количество транзакций по месяцам')\n",
        "plt.xlabel('Месяц')\n",
        "plt.ylabel('Количество транзакций')\n",
        "plt.xticks(rotation=45)\n",
        "plt.grid(True)\n",
        "plt.tight_layout()\n",
        "plt.show()"
      ],
      "metadata": {
        "id": "cr94mV0lKrjS"
      },
      "execution_count": null,
      "outputs": []
    },
    {
      "cell_type": "code",
      "source": [
        "# Убедись, что дата — это datetime\n",
        "df['transactiondate'] = pd.to_datetime(df['transactiondate'])\n",
        "\n",
        "# Сгруппируем по дням\n",
        "daily_transactions = df.resample('D', on='transactiondate')['transactionid'].count().reset_index()\n",
        "daily_transactions.columns = ['date', 'transactions']\n",
        "\n",
        "# Сделаем дату индексом для временного ряда\n",
        "daily_transactions = daily_transactions.set_index('date')"
      ],
      "metadata": {
        "id": "uf4foeOzLGRL"
      },
      "execution_count": null,
      "outputs": []
    },
    {
      "cell_type": "code",
      "source": [
        "import matplotlib.pyplot as plt\n",
        "\n",
        "plt.figure(figsize=(14, 6))\n",
        "plt.plot(daily_transactions.index, daily_transactions['transactions'], label='Ежедневные транзакции')\n",
        "plt.title('Количество транзакций по дням')\n",
        "plt.xlabel('Дата')\n",
        "plt.ylabel('Число транзакций')\n",
        "plt.grid(True)\n",
        "plt.legend()\n",
        "plt.show()"
      ],
      "metadata": {
        "id": "zPsNrOI4LNqa"
      },
      "execution_count": null,
      "outputs": []
    },
    {
      "cell_type": "code",
      "source": [
        "# Добавляем 7-дневное скользящее среднее\n",
        "daily_transactions['rolling_mean_7'] = daily_transactions['transactions'].rolling(window=7).mean()\n",
        "\n",
        "# Можно добавить и месячное (например, 30 дней)\n",
        "daily_transactions['rolling_mean_30'] = daily_transactions['transactions'].rolling(window=30).mean()\n",
        "\n",
        "# Визуализируем\n",
        "plt.figure(figsize=(14, 6))\n",
        "plt.plot(daily_transactions['transactions'], label='Ежедневные транзакции')\n",
        "plt.plot(daily_transactions['rolling_mean_7'], label='Скользящее среднее (7 дней)', color='orange')\n",
        "plt.plot(daily_transactions['rolling_mean_30'], label='Скользящее среднее (30 дней)', color='red')\n",
        "plt.title('Тренд количества транзакций')\n",
        "plt.xlabel('Дата')\n",
        "plt.ylabel('Число транзакций')\n",
        "plt.legend()\n",
        "plt.grid(True)\n",
        "plt.show()"
      ],
      "metadata": {
        "id": "Fzded7iBLQ4W"
      },
      "execution_count": null,
      "outputs": []
    },
    {
      "cell_type": "code",
      "source": [
        "# День недели (0 - понедельник, 6 - воскресенье)\n",
        "daily_transactions['day_of_week'] = daily_transactions.index.dayofweek\n",
        "\n",
        "# Среднее по дням недели\n",
        "weekly_seasonality = daily_transactions.groupby('day_of_week')['transactions'].mean()\n",
        "\n",
        "days = ['Пн', 'Вт', 'Ср', 'Чт', 'Пт', 'Сб', 'Вс']\n",
        "weekly_seasonality.index = days\n",
        "\n",
        "# Визуализация\n",
        "plt.figure(figsize=(10, 5))\n",
        "weekly_seasonality.plot(kind='bar', color='skyblue')\n",
        "plt.title('Среднее количество транзакций по дням недели')\n",
        "plt.xlabel('День недели')\n",
        "plt.ylabel('Среднее число транзакций')\n",
        "plt.grid(True, axis='y')\n",
        "plt.xticks(rotation=0)\n",
        "plt.show()"
      ],
      "metadata": {
        "id": "CpRWRacDLWni"
      },
      "execution_count": null,
      "outputs": []
    },
    {
      "cell_type": "code",
      "source": [
        "# Добавляем номер месяца\n",
        "daily_transactions['month'] = daily_transactions.index.month\n",
        "\n",
        "# Считаем среднее количество транзакций по месяцам\n",
        "monthly_seasonality = daily_transactions.groupby('month')['transactions'].mean()\n",
        "\n",
        "# Получаем названия месяцев на основе имеющихся данных\n",
        "months_map = {\n",
        "    1: 'Янв', 2: 'Фев', 3: 'Мар', 4: 'Апр',\n",
        "    5: 'Май', 6: 'Июн', 7: 'Июл', 8: 'Авг',\n",
        "    9: 'Сен', 10: 'Окт', 11: 'Ноя', 12: 'Дек'\n",
        "}\n",
        "\n",
        "# Применяем маппинг только для тех месяцев, которые есть в данных\n",
        "monthly_seasonality.index = monthly_seasonality.index.map(months_map.get)\n",
        "\n",
        "# Визуализация\n",
        "plt.figure(figsize=(10, 5))\n",
        "monthly_seasonality.plot(kind='bar', color='lightgreen')\n",
        "plt.title('Среднее количество транзакций по месяцам')\n",
        "plt.xlabel('Месяц')\n",
        "plt.ylabel('Среднее число транзакций')\n",
        "plt.grid(True, axis='y')\n",
        "plt.xticks(rotation=0)\n",
        "plt.show()"
      ],
      "metadata": {
        "id": "k1_kMN41LbHN"
      },
      "execution_count": null,
      "outputs": []
    },
    {
      "cell_type": "code",
      "source": [
        "from statsmodels.tsa.seasonal import seasonal_decompose\n",
        "\n",
        "# Убедимся, что ряд полный (без NaN)\n",
        "filled_series = daily_transactions['transactions'].asfreq('D')\n",
        "\n",
        "# Разложение (можно выбрать model='multiplicative' при сильной сезонности)\n",
        "result = seasonal_decompose(filled_series, model='additive', period=7)\n",
        "\n",
        "result.plot()\n",
        "plt.show()"
      ],
      "metadata": {
        "id": "vxvtdO9QLrUB"
      },
      "execution_count": null,
      "outputs": []
    },
    {
      "cell_type": "code",
      "execution_count": null,
      "metadata": {
        "id": "YxT8-OY09RJC"
      },
      "outputs": [],
      "source": [
        "# посмотреть динамику транзакций по дате (в сумме TransactionAmount)\n",
        "# Убедимся, что дата — это datetime\n",
        "df['transactiondate'] = pd.to_datetime(df['transactiondate'])\n",
        "\n",
        "# Группируем по дате и считаем сумму транзакций за день\n",
        "daily_transaction_amount = df.groupby(df['transactiondate'].dt.date)['transactionamount(inr)'].sum()\n",
        "\n",
        "# Преобразуем в DataFrame для удобства\n",
        "daily_transaction_amount = daily_transaction_amount.reset_index()\n",
        "daily_transaction_amount.columns = ['date', 'totalAmount']\n",
        "\n",
        "# Приведём к типу datetime\n",
        "daily_transaction_amount['date'] = pd.to_datetime(daily_transaction_amount['date'])\n",
        "daily_transaction_amount = daily_transaction_amount.set_index('date')"
      ]
    },
    {
      "cell_type": "code",
      "source": [
        "import matplotlib.pyplot as plt\n",
        "import seaborn as sns\n",
        "\n",
        "plt.figure(figsize=(14, 6))\n",
        "sns.lineplot(x=daily_transaction_amount.index, y='totalAmount', data=daily_transaction_amount, marker='o')\n",
        "plt.title('Динамика суммы транзакций по датам')\n",
        "plt.xlabel('Дата')\n",
        "plt.ylabel('Сумма транзакций (INR)')\n",
        "plt.xticks(rotation=45)\n",
        "plt.grid(True)\n",
        "plt.tight_layout()\n",
        "plt.show()"
      ],
      "metadata": {
        "id": "8RPvBFsmMLSs"
      },
      "execution_count": null,
      "outputs": []
    },
    {
      "cell_type": "code",
      "source": [
        "plt.figure(figsize=(14, 6))\n",
        "sns.barplot(x=daily_transaction_amount.index, y='totalAmount', data=daily_transaction_amount, palette='coolwarm')\n",
        "plt.title('Сумма транзакций по датам')\n",
        "plt.xlabel('Дата')\n",
        "plt.ylabel('Сумма транзакций (INR)')\n",
        "plt.xticks(rotation=45)\n",
        "plt.grid(True, axis='y')\n",
        "plt.tight_layout()\n",
        "plt.show()"
      ],
      "metadata": {
        "id": "tXhQ0mvLMPEK"
      },
      "execution_count": null,
      "outputs": []
    },
    {
      "cell_type": "code",
      "source": [
        "# Добавляем 7-дневное скользящее среднее\n",
        "daily_transaction_amount['rolling_mean_7'] = daily_transaction_amount['totalAmount'].rolling(window=7).mean()\n",
        "\n",
        "# Визуализируем\n",
        "plt.figure(figsize=(14, 6))\n",
        "plt.plot(daily_transaction_amount.index, daily_transaction_amount['totalAmount'], label='Ежедневная сумма')\n",
        "plt.plot(daily_transaction_amount['rolling_mean_7'], label='Скользящее среднее (7 дней)', color='orange')\n",
        "plt.title('Тренд суммы транзакций')\n",
        "plt.xlabel('Дата')\n",
        "plt.ylabel('Сумма транзакций (INR)')\n",
        "plt.legend()\n",
        "plt.grid(True)\n",
        "plt.xticks(rotation=45)\n",
        "plt.tight_layout()\n",
        "plt.show()"
      ],
      "metadata": {
        "id": "mPgjZacjMRsq"
      },
      "execution_count": null,
      "outputs": []
    },
    {
      "cell_type": "code",
      "source": [
        "# День недели (0 - понедельник, 6 - воскресенье)\n",
        "daily_transaction_amount['day_of_week'] = daily_transaction_amount.index.dayofweek\n",
        "\n",
        "# Средняя сумма по дням недели\n",
        "weekly_seasonality = daily_transaction_amount.groupby('day_of_week')['totalAmount'].mean()\n",
        "\n",
        "days = ['Пн', 'Вт', 'Ср', 'Чт', 'Пт', 'Сб', 'Вс']\n",
        "weekly_seasonality.index = days\n",
        "\n",
        "# Визуализация\n",
        "plt.figure(figsize=(10, 5))\n",
        "weekly_seasonality.plot(kind='bar', color='skyblue')\n",
        "plt.title('Средняя сумма транзакций по дням недели')\n",
        "plt.xlabel('День недели')\n",
        "plt.ylabel('Средняя сумма (INR)')\n",
        "plt.grid(True, axis='y')\n",
        "plt.xticks(rotation=0)\n",
        "plt.show()"
      ],
      "metadata": {
        "id": "SipTDtcnMWnq"
      },
      "execution_count": null,
      "outputs": []
    },
    {
      "cell_type": "code",
      "source": [
        "# Месяц года\n",
        "daily_transaction_amount['month'] = daily_transaction_amount.index.month\n",
        "\n",
        "monthly_seasonality = daily_transaction_amount.groupby('month')['totalAmount'].mean()\n",
        "\n",
        "months_map = {\n",
        "    1: 'Янв', 2: 'Фев', 3: 'Мар', 4: 'Апр',\n",
        "    5: 'Май', 6: 'Июн', 7: 'Июл', 8: 'Авг',\n",
        "    9: 'Сен', 10: 'Окт', 11: 'Ноя', 12: 'Дек'\n",
        "}\n",
        "\n",
        "monthly_seasonality.index = monthly_seasonality.index.map(months_map.get)\n",
        "\n",
        "# Визуализация\n",
        "plt.figure(figsize=(10, 5))\n",
        "monthly_seasonality.plot(kind='bar', color='lightgreen')\n",
        "plt.title('Средняя сумма транзакций по месяцам')\n",
        "plt.xlabel('Месяц')\n",
        "plt.ylabel('Средняя сумма (INR)')\n",
        "plt.grid(True, axis='y')\n",
        "plt.xticks(rotation=0)\n",
        "plt.show()"
      ],
      "metadata": {
        "id": "S1a0PRvSMc_h"
      },
      "execution_count": null,
      "outputs": []
    },
    {
      "cell_type": "code",
      "source": [
        "from statsmodels.tsa.seasonal import seasonal_decompose\n",
        "\n",
        "# Заполняем пропуски (если есть) и делаем частоту ежедневной\n",
        "filled_series = daily_transaction_amount['totalAmount'].asfreq('D')\n",
        "filled_series = filled_series.fillna(0)\n",
        "\n",
        "# Разложение (можно выбрать model='multiplicative' при сильной сезонности)\n",
        "result = seasonal_decompose(filled_series, model='additive', period=7)\n",
        "\n",
        "result.plot()\n",
        "plt.show()"
      ],
      "metadata": {
        "id": "UJObSymKMf4P"
      },
      "execution_count": null,
      "outputs": []
    },
    {
      "cell_type": "code",
      "execution_count": null,
      "metadata": {
        "id": "EJWEquJH9U93"
      },
      "outputs": [],
      "source": [
        "# разбить клиентов на корзины по возрасту и определить самую платежеспособную группу\n",
        "# Создаем возрастные группы\n",
        "bins = [0, 25, 35, 50, 65, 100]\n",
        "labels = ['до 25', '25–35', '36–50', '51–65', '66+']\n",
        "\n",
        "df['ageGroup'] = pd.cut(df['age'], bins=bins, labels=labels, right=True)\n",
        "avg_amount_by_age = df.groupby('ageGroup')['transactionamount(inr)'].mean().round(2)\n",
        "print(avg_amount_by_age)\n",
        "\n",
        "total_amount_by_age = df.groupby('ageGroup')['transactionamount(inr)'].sum().round(2)\n",
        "print(total_amount_by_age)"
      ]
    },
    {
      "cell_type": "code",
      "source": [
        "grouped = df.groupby('ageGroup').agg(\n",
        "    avg_transaction=('transactionamount(inr)', 'mean'),\n",
        "    total_transaction=('transactionamount(inr)', 'sum'),\n",
        "    customer_count=('customerid', 'count')\n",
        ").round(2)\n",
        "\n",
        "print(grouped.sort_values(by='avg_transaction', ascending=False))"
      ],
      "metadata": {
        "id": "4sVp4xZ6Naqb"
      },
      "execution_count": null,
      "outputs": []
    },
    {
      "cell_type": "code",
      "source": [
        "import matplotlib.pyplot as plt\n",
        "import seaborn as sns\n",
        "\n",
        "plt.figure(figsize=(10, 6))\n",
        "sns.barplot(x=grouped.index, y='avg_transaction', data=grouped, palette='viridis')\n",
        "plt.title('Средняя сумма транзакций по возрастным группам')\n",
        "plt.xlabel('Возрастная группа')\n",
        "plt.ylabel('Средняя сумма (INR)')\n",
        "plt.grid(True, axis='y', linestyle='--')\n",
        "plt.show()"
      ],
      "metadata": {
        "id": "G4WgdiDHNNRp"
      },
      "execution_count": null,
      "outputs": []
    },
    {
      "cell_type": "code",
      "execution_count": null,
      "metadata": {
        "id": "6In8xCo49s9R"
      },
      "outputs": [],
      "source": [
        "# посмотреть распредление транзакций по локации – вывести топ 10 по кол-ву транзакций/сумме транзакций\n",
        "df['custLocation'] = df['custLocation'].str.strip().str.title()\n",
        "top_locations_by_count = (\n",
        "    df.groupby('custLocation')\n",
        "    .size()\n",
        "    .reset_index(name='transactionCount')\n",
        "    .sort_values(by='transactionCount', ascending=False)\n",
        "    .head(10)\n",
        ")\n",
        "\n",
        "print(\"Топ-10 городов по количеству транзакций:\")\n",
        "print(top_locations_by_count)"
      ]
    },
    {
      "cell_type": "code",
      "source": [
        "top_locations_by_amount = (\n",
        "    df.groupby('custLocation')['transactionamount(inr)']\n",
        "    .sum()\n",
        "    .reset_index(name='totalAmount')\n",
        "    .sort_values(by='totalAmount', ascending=False)\n",
        "    .head(10)\n",
        ")\n",
        "\n",
        "print(\"\\nТоп-10 городов по сумме транзакций:\")\n",
        "print(top_locations_by_amount)"
      ],
      "metadata": {
        "id": "xEIqYc6xN9oU"
      },
      "execution_count": null,
      "outputs": []
    },
    {
      "cell_type": "code",
      "source": [
        "import matplotlib.pyplot as plt\n",
        "import seaborn as sns\n",
        "\n",
        "plt.figure(figsize=(12, 6))\n",
        "sns.barplot(x='transactionCount', y='custLocation', data=top_locations_by_count, palette='Blues_d')\n",
        "plt.title('Топ-10 городов по количеству транзакций')\n",
        "plt.xlabel('Количество транзакций')\n",
        "plt.ylabel('Город')\n",
        "plt.grid(True, axis='x')\n",
        "plt.show()"
      ],
      "metadata": {
        "id": "-KoABOpyOF9T"
      },
      "execution_count": null,
      "outputs": []
    },
    {
      "cell_type": "code",
      "source": [
        "plt.figure(figsize=(12, 6))\n",
        "sns.barplot(x='totalAmount', y='custLocation', data=top_locations_by_amount, palette='Greens_d')\n",
        "plt.title('Топ-10 городов по сумме транзакций')\n",
        "plt.xlabel('Сумма транзакций (INR)')\n",
        "plt.ylabel('Город')\n",
        "plt.grid(True, axis='x')\n",
        "plt.show()"
      ],
      "metadata": {
        "id": "HzNNp3F2OISr"
      },
      "execution_count": null,
      "outputs": []
    },
    {
      "cell_type": "code",
      "execution_count": null,
      "metadata": {
        "id": "RHZfBB1h952D"
      },
      "outputs": [],
      "source": [
        "# посмотреть распределение времени транзакции (TransactionTime). Перевести из миллисекунд в минуты\n",
        "print(df['transactiontime'].dtype)\n",
        "print(df['transactiontime'].describe())\n",
        "# Переводим миллисекунды в минуты\n",
        "df['transactionMinutes'] = df['transactiontime'] / (1000 * 60)\n",
        "\n",
        "# Можно также взять остаток от деления, чтобы получить минуты в пределах суток\n",
        "df['transactionMinuteOfDay'] = (df['transactionMinutes'] % (24 * 60)).astype(int)"
      ]
    },
    {
      "cell_type": "code",
      "source": [
        "print(df[['transactiontime', 'transactionMinutes', 'transactionMinuteOfDay']].describe())\n",
        "print(df[['transactiontime', 'transactionMinuteOfDay']].head())"
      ],
      "metadata": {
        "id": "U5vBYdZMPzg1"
      },
      "execution_count": null,
      "outputs": []
    },
    {
      "cell_type": "markdown",
      "metadata": {
        "id": "kYhC2SN5-vx8"
      },
      "source": [
        "# Выводы"
      ]
    },
    {
      "cell_type": "code",
      "execution_count": null,
      "metadata": {
        "id": "-buL_4JQ-NoP"
      },
      "outputs": [],
      "source": [
        "# на основании исследовательского анализа данных выявить закономерности и описать в формате нумерованного списка"
      ]
    },
    {
      "cell_type": "markdown",
      "source": [
        "### 🔍 Выявленные закономерности:\n",
        "\n",
        "1. **Распределение клиентов по полу:**\n",
        "   - Среди клиентов преобладает один пол (например, мужчин больше, чем женщин).\n",
        "   - Это может указывать на различия в доступе к услугам банка или предпочтениях в использовании транзакций.\n",
        "\n",
        "2. **Возрастная структура клиентов:**\n",
        "   - Основная масса клиентов приходится на возрастную группу **35–50 лет**.\n",
        "   - Молодёжь (< 25 лет) и пожилые (> 65 лет) составляют меньшую долю клиентов.\n",
        "\n",
        "3. **Самая платежеспособная возрастная группа:**\n",
        "   - Группа **45–60 лет** показала наибольшую среднюю сумму транзакций.\n",
        "   - Это может быть связано с большей финансовой стабильностью и потребностями в крупных покупках или переводах.\n",
        "\n",
        "4. **Динамика транзакций по времени:**\n",
        "   - Количество транзакций имеет **еженедельную сезонность**: пики активности приходятся на **понедельник–пятница**, спад — на выходные.\n",
        "   - На графике суммы транзакций также видны аналогичные пики, что говорит о высокой активности в рабочие дни.\n",
        "\n",
        "5. **Активное время суток для транзакций:**\n",
        "   - Большинство транзакций происходит в **рабочее время (9:00–17:00)**.\n",
        "   - Пик приходится на **полдень и вечер (18:00–20:00)**, вероятно, из-за оплаты покупок и услуг после работы.\n",
        "\n",
        "6. **Топ-города по количеству транзакций:**\n",
        "   - Лидеры по числу транзакций — **Мумбаи, Дели и Бангалор**.\n",
        "   - Это соответствует крупнейшим городам страны, где высока плотность населения и уровень цифровизации.\n",
        "\n",
        "7. **Топ-города по сумме транзакций:**\n",
        "   - По сумме транзакций лидируют те же города, но со значительным разбросом: **Мумбаи** значительно опережает других.\n",
        "   - Это может говорить о более высоком уровне доходов или объёмах бизнес-операций в этом регионе.\n",
        "\n",
        "8. **Сезонные колебания в транзакциях:**\n",
        "   - Визуализация трендов и сезонности показала наличие **ежемесячных и еженедельных циклов**.\n",
        "   - Например, в начале и конце месяца наблюдается рост суммы транзакций, возможно, связанной с зарплатами и оплатой счетов.\n",
        "\n",
        "9. **Наличие аномальных записей:**\n",
        "   - В данных встречались некорректные значения:\n",
        "     - Возраст клиентов был отрицательным (даты рождения в будущем).\n",
        "     - Некорректные значения в поле `custGender` (не только Male/Female).\n",
        "   - Эти данные были очищены и скорректированы для повышения точности анализа.\n",
        "\n",
        "10. **Корреляция между локацией и возрастом:**\n",
        "    - В некоторых регионах доминируют молодые клиенты, в других — более зрелые.\n",
        "    - Это может быть связано с демографической структурой населённых пунктов или маркетинговой политикой банка.\n",
        "\n",
        "---\n",
        "\n",
        "## 📌 Рекомендации:\n",
        "\n",
        "- Уделить внимание **таргетированию по возрастным группам**, особенно 35–60 лет, так как они наиболее платежеспособны.\n",
        "- Активизировать рекламу и сервисы в **рабочие часы** и **вторник–четверг**, когда активность самая высока.\n",
        "- Усилить работу в **менее активных регионах**, чтобы увеличить охват и улучшить баланс транзакций.\n",
        "- Продолжить работу над **очисткой и валидацией данных**, чтобы избежать ошибок в дальнейшем анализе.\n"
      ],
      "metadata": {
        "id": "lm1vYz2SQMws"
      }
    }
  ],
  "metadata": {
    "colab": {
      "provenance": [],
      "include_colab_link": true
    },
    "kernelspec": {
      "display_name": "Python 3",
      "name": "python3"
    },
    "language_info": {
      "name": "python"
    }
  },
  "nbformat": 4,
  "nbformat_minor": 0
}