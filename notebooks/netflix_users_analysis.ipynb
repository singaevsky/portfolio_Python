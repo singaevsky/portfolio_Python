{
  "nbformat": 4,
  "nbformat_minor": 0,
  "metadata": {
    "colab": {
      "provenance": [],
      "include_colab_link": true
    },
    "kernelspec": {
      "name": "python3",
      "display_name": "Python 3"
    },
    "language_info": {
      "name": "python"
    }
  },
  "cells": [
    {
      "cell_type": "markdown",
      "metadata": {
        "id": "view-in-github",
        "colab_type": "text"
      },
      "source": [
        "<a href=\"https://colab.research.google.com/github/singaevsky/portfolio_Python/blob/main/netflix_users_analysis.ipynb\" target=\"_parent\"><img src=\"https://colab.research.google.com/assets/colab-badge.svg\" alt=\"Open In Colab\"/></a>"
      ]
    },
    {
      "cell_type": "markdown",
      "source": [
        "# Загрузка данных"
      ],
      "metadata": {
        "id": "IifpGhY25qzt"
      }
    },
    {
      "cell_type": "code",
      "source": [
        "from google.colab import drive\n",
        "drive.mount('/content/drive')"
      ],
      "metadata": {
        "colab": {
          "base_uri": "https://localhost:8080/"
        },
        "id": "f0aw_6elW3uP",
        "outputId": "9e6872e6-ae37-4550-b321-0e5fcd8b278e"
      },
      "execution_count": 1,
      "outputs": [
        {
          "output_type": "stream",
          "name": "stdout",
          "text": [
            "Mounted at /content/drive\n"
          ]
        }
      ]
    },
    {
      "cell_type": "markdown",
      "source": [
        "Данные взяты с сайта kaggle\n",
        "[пользователи Netflix](https://www.kaggle.com/datasets/arnavsmayan/netflix-userbase-dataset)"
      ],
      "metadata": {
        "id": "pF13Mgzc_KOl"
      }
    },
    {
      "cell_type": "code",
      "execution_count": 2,
      "metadata": {
        "id": "H2_HusIj4x6r"
      },
      "outputs": [],
      "source": [
        "import pandas as pd\n",
        "df = pd.read_csv('/content/drive/MyDrive/Zerocoding/Python+ChatGPT/PN14/netflix_users_data.csv')"
      ]
    },
    {
      "cell_type": "code",
      "source": [
        "df"
      ],
      "metadata": {
        "colab": {
          "base_uri": "https://localhost:8080/",
          "height": 424
        },
        "id": "d5OuIch859Uz",
        "outputId": "abddf07b-e739-4853-90f7-8d03c3c40965"
      },
      "execution_count": 3,
      "outputs": [
        {
          "output_type": "execute_result",
          "data": {
            "text/plain": [
              "      User ID Subscription Type  Monthly Revenue Join Date Last Payment Date  \\\n",
              "0           1             Basic               10  15-01-22          10-06-23   \n",
              "1           2           Premium               15  05-09-21          22-06-23   \n",
              "2           3          Standard               12  28-02-23          27-06-23   \n",
              "3           4          Standard               12  10-07-22          26-06-23   \n",
              "4           5             Basic               10  01-05-23          28-06-23   \n",
              "...       ...               ...              ...       ...               ...   \n",
              "2495     2496           Premium               14  25-07-22          12-07-23   \n",
              "2496     2497             Basic               15  04-08-22          14-07-23   \n",
              "2497     2498          Standard               12  09-08-22          15-07-23   \n",
              "2498     2499          Standard               13  12-08-22          12-07-23   \n",
              "2499     2500             Basic               15  13-08-22          12-07-23   \n",
              "\n",
              "             Country  Age  Gender      Device Plan Duration  \n",
              "0      United States   28    Male  Smartphone       1 Month  \n",
              "1             Canada   35  Female      Tablet       1 Month  \n",
              "2     United Kingdom   42    Male    Smart TV       1 Month  \n",
              "3          Australia   51  Female      Laptop       1 Month  \n",
              "4            Germany   33    Male  Smartphone       1 Month  \n",
              "...              ...  ...     ...         ...           ...  \n",
              "2495           Spain   28  Female    Smart TV       1 Month  \n",
              "2496           Spain   33  Female    Smart TV       1 Month  \n",
              "2497   United States   38    Male      Laptop       1 Month  \n",
              "2498          Canada   48  Female      Tablet       1 Month  \n",
              "2499   United States   35  Female    Smart TV       1 Month  \n",
              "\n",
              "[2500 rows x 10 columns]"
            ],
            "text/html": [
              "\n",
              "  <div id=\"df-05680f36-00bd-4cb5-a810-ad903762ccc8\" class=\"colab-df-container\">\n",
              "    <div>\n",
              "<style scoped>\n",
              "    .dataframe tbody tr th:only-of-type {\n",
              "        vertical-align: middle;\n",
              "    }\n",
              "\n",
              "    .dataframe tbody tr th {\n",
              "        vertical-align: top;\n",
              "    }\n",
              "\n",
              "    .dataframe thead th {\n",
              "        text-align: right;\n",
              "    }\n",
              "</style>\n",
              "<table border=\"1\" class=\"dataframe\">\n",
              "  <thead>\n",
              "    <tr style=\"text-align: right;\">\n",
              "      <th></th>\n",
              "      <th>User ID</th>\n",
              "      <th>Subscription Type</th>\n",
              "      <th>Monthly Revenue</th>\n",
              "      <th>Join Date</th>\n",
              "      <th>Last Payment Date</th>\n",
              "      <th>Country</th>\n",
              "      <th>Age</th>\n",
              "      <th>Gender</th>\n",
              "      <th>Device</th>\n",
              "      <th>Plan Duration</th>\n",
              "    </tr>\n",
              "  </thead>\n",
              "  <tbody>\n",
              "    <tr>\n",
              "      <th>0</th>\n",
              "      <td>1</td>\n",
              "      <td>Basic</td>\n",
              "      <td>10</td>\n",
              "      <td>15-01-22</td>\n",
              "      <td>10-06-23</td>\n",
              "      <td>United States</td>\n",
              "      <td>28</td>\n",
              "      <td>Male</td>\n",
              "      <td>Smartphone</td>\n",
              "      <td>1 Month</td>\n",
              "    </tr>\n",
              "    <tr>\n",
              "      <th>1</th>\n",
              "      <td>2</td>\n",
              "      <td>Premium</td>\n",
              "      <td>15</td>\n",
              "      <td>05-09-21</td>\n",
              "      <td>22-06-23</td>\n",
              "      <td>Canada</td>\n",
              "      <td>35</td>\n",
              "      <td>Female</td>\n",
              "      <td>Tablet</td>\n",
              "      <td>1 Month</td>\n",
              "    </tr>\n",
              "    <tr>\n",
              "      <th>2</th>\n",
              "      <td>3</td>\n",
              "      <td>Standard</td>\n",
              "      <td>12</td>\n",
              "      <td>28-02-23</td>\n",
              "      <td>27-06-23</td>\n",
              "      <td>United Kingdom</td>\n",
              "      <td>42</td>\n",
              "      <td>Male</td>\n",
              "      <td>Smart TV</td>\n",
              "      <td>1 Month</td>\n",
              "    </tr>\n",
              "    <tr>\n",
              "      <th>3</th>\n",
              "      <td>4</td>\n",
              "      <td>Standard</td>\n",
              "      <td>12</td>\n",
              "      <td>10-07-22</td>\n",
              "      <td>26-06-23</td>\n",
              "      <td>Australia</td>\n",
              "      <td>51</td>\n",
              "      <td>Female</td>\n",
              "      <td>Laptop</td>\n",
              "      <td>1 Month</td>\n",
              "    </tr>\n",
              "    <tr>\n",
              "      <th>4</th>\n",
              "      <td>5</td>\n",
              "      <td>Basic</td>\n",
              "      <td>10</td>\n",
              "      <td>01-05-23</td>\n",
              "      <td>28-06-23</td>\n",
              "      <td>Germany</td>\n",
              "      <td>33</td>\n",
              "      <td>Male</td>\n",
              "      <td>Smartphone</td>\n",
              "      <td>1 Month</td>\n",
              "    </tr>\n",
              "    <tr>\n",
              "      <th>...</th>\n",
              "      <td>...</td>\n",
              "      <td>...</td>\n",
              "      <td>...</td>\n",
              "      <td>...</td>\n",
              "      <td>...</td>\n",
              "      <td>...</td>\n",
              "      <td>...</td>\n",
              "      <td>...</td>\n",
              "      <td>...</td>\n",
              "      <td>...</td>\n",
              "    </tr>\n",
              "    <tr>\n",
              "      <th>2495</th>\n",
              "      <td>2496</td>\n",
              "      <td>Premium</td>\n",
              "      <td>14</td>\n",
              "      <td>25-07-22</td>\n",
              "      <td>12-07-23</td>\n",
              "      <td>Spain</td>\n",
              "      <td>28</td>\n",
              "      <td>Female</td>\n",
              "      <td>Smart TV</td>\n",
              "      <td>1 Month</td>\n",
              "    </tr>\n",
              "    <tr>\n",
              "      <th>2496</th>\n",
              "      <td>2497</td>\n",
              "      <td>Basic</td>\n",
              "      <td>15</td>\n",
              "      <td>04-08-22</td>\n",
              "      <td>14-07-23</td>\n",
              "      <td>Spain</td>\n",
              "      <td>33</td>\n",
              "      <td>Female</td>\n",
              "      <td>Smart TV</td>\n",
              "      <td>1 Month</td>\n",
              "    </tr>\n",
              "    <tr>\n",
              "      <th>2497</th>\n",
              "      <td>2498</td>\n",
              "      <td>Standard</td>\n",
              "      <td>12</td>\n",
              "      <td>09-08-22</td>\n",
              "      <td>15-07-23</td>\n",
              "      <td>United States</td>\n",
              "      <td>38</td>\n",
              "      <td>Male</td>\n",
              "      <td>Laptop</td>\n",
              "      <td>1 Month</td>\n",
              "    </tr>\n",
              "    <tr>\n",
              "      <th>2498</th>\n",
              "      <td>2499</td>\n",
              "      <td>Standard</td>\n",
              "      <td>13</td>\n",
              "      <td>12-08-22</td>\n",
              "      <td>12-07-23</td>\n",
              "      <td>Canada</td>\n",
              "      <td>48</td>\n",
              "      <td>Female</td>\n",
              "      <td>Tablet</td>\n",
              "      <td>1 Month</td>\n",
              "    </tr>\n",
              "    <tr>\n",
              "      <th>2499</th>\n",
              "      <td>2500</td>\n",
              "      <td>Basic</td>\n",
              "      <td>15</td>\n",
              "      <td>13-08-22</td>\n",
              "      <td>12-07-23</td>\n",
              "      <td>United States</td>\n",
              "      <td>35</td>\n",
              "      <td>Female</td>\n",
              "      <td>Smart TV</td>\n",
              "      <td>1 Month</td>\n",
              "    </tr>\n",
              "  </tbody>\n",
              "</table>\n",
              "<p>2500 rows × 10 columns</p>\n",
              "</div>\n",
              "    <div class=\"colab-df-buttons\">\n",
              "\n",
              "  <div class=\"colab-df-container\">\n",
              "    <button class=\"colab-df-convert\" onclick=\"convertToInteractive('df-05680f36-00bd-4cb5-a810-ad903762ccc8')\"\n",
              "            title=\"Convert this dataframe to an interactive table.\"\n",
              "            style=\"display:none;\">\n",
              "\n",
              "  <svg xmlns=\"http://www.w3.org/2000/svg\" height=\"24px\" viewBox=\"0 -960 960 960\">\n",
              "    <path d=\"M120-120v-720h720v720H120Zm60-500h600v-160H180v160Zm220 220h160v-160H400v160Zm0 220h160v-160H400v160ZM180-400h160v-160H180v160Zm440 0h160v-160H620v160ZM180-180h160v-160H180v160Zm440 0h160v-160H620v160Z\"/>\n",
              "  </svg>\n",
              "    </button>\n",
              "\n",
              "  <style>\n",
              "    .colab-df-container {\n",
              "      display:flex;\n",
              "      gap: 12px;\n",
              "    }\n",
              "\n",
              "    .colab-df-convert {\n",
              "      background-color: #E8F0FE;\n",
              "      border: none;\n",
              "      border-radius: 50%;\n",
              "      cursor: pointer;\n",
              "      display: none;\n",
              "      fill: #1967D2;\n",
              "      height: 32px;\n",
              "      padding: 0 0 0 0;\n",
              "      width: 32px;\n",
              "    }\n",
              "\n",
              "    .colab-df-convert:hover {\n",
              "      background-color: #E2EBFA;\n",
              "      box-shadow: 0px 1px 2px rgba(60, 64, 67, 0.3), 0px 1px 3px 1px rgba(60, 64, 67, 0.15);\n",
              "      fill: #174EA6;\n",
              "    }\n",
              "\n",
              "    .colab-df-buttons div {\n",
              "      margin-bottom: 4px;\n",
              "    }\n",
              "\n",
              "    [theme=dark] .colab-df-convert {\n",
              "      background-color: #3B4455;\n",
              "      fill: #D2E3FC;\n",
              "    }\n",
              "\n",
              "    [theme=dark] .colab-df-convert:hover {\n",
              "      background-color: #434B5C;\n",
              "      box-shadow: 0px 1px 3px 1px rgba(0, 0, 0, 0.15);\n",
              "      filter: drop-shadow(0px 1px 2px rgba(0, 0, 0, 0.3));\n",
              "      fill: #FFFFFF;\n",
              "    }\n",
              "  </style>\n",
              "\n",
              "    <script>\n",
              "      const buttonEl =\n",
              "        document.querySelector('#df-05680f36-00bd-4cb5-a810-ad903762ccc8 button.colab-df-convert');\n",
              "      buttonEl.style.display =\n",
              "        google.colab.kernel.accessAllowed ? 'block' : 'none';\n",
              "\n",
              "      async function convertToInteractive(key) {\n",
              "        const element = document.querySelector('#df-05680f36-00bd-4cb5-a810-ad903762ccc8');\n",
              "        const dataTable =\n",
              "          await google.colab.kernel.invokeFunction('convertToInteractive',\n",
              "                                                    [key], {});\n",
              "        if (!dataTable) return;\n",
              "\n",
              "        const docLinkHtml = 'Like what you see? Visit the ' +\n",
              "          '<a target=\"_blank\" href=https://colab.research.google.com/notebooks/data_table.ipynb>data table notebook</a>'\n",
              "          + ' to learn more about interactive tables.';\n",
              "        element.innerHTML = '';\n",
              "        dataTable['output_type'] = 'display_data';\n",
              "        await google.colab.output.renderOutput(dataTable, element);\n",
              "        const docLink = document.createElement('div');\n",
              "        docLink.innerHTML = docLinkHtml;\n",
              "        element.appendChild(docLink);\n",
              "      }\n",
              "    </script>\n",
              "  </div>\n",
              "\n",
              "\n",
              "    <div id=\"df-a35f1e12-a9ef-4fd6-ae0b-96c3097ff173\">\n",
              "      <button class=\"colab-df-quickchart\" onclick=\"quickchart('df-a35f1e12-a9ef-4fd6-ae0b-96c3097ff173')\"\n",
              "                title=\"Suggest charts\"\n",
              "                style=\"display:none;\">\n",
              "\n",
              "<svg xmlns=\"http://www.w3.org/2000/svg\" height=\"24px\"viewBox=\"0 0 24 24\"\n",
              "     width=\"24px\">\n",
              "    <g>\n",
              "        <path d=\"M19 3H5c-1.1 0-2 .9-2 2v14c0 1.1.9 2 2 2h14c1.1 0 2-.9 2-2V5c0-1.1-.9-2-2-2zM9 17H7v-7h2v7zm4 0h-2V7h2v10zm4 0h-2v-4h2v4z\"/>\n",
              "    </g>\n",
              "</svg>\n",
              "      </button>\n",
              "\n",
              "<style>\n",
              "  .colab-df-quickchart {\n",
              "      --bg-color: #E8F0FE;\n",
              "      --fill-color: #1967D2;\n",
              "      --hover-bg-color: #E2EBFA;\n",
              "      --hover-fill-color: #174EA6;\n",
              "      --disabled-fill-color: #AAA;\n",
              "      --disabled-bg-color: #DDD;\n",
              "  }\n",
              "\n",
              "  [theme=dark] .colab-df-quickchart {\n",
              "      --bg-color: #3B4455;\n",
              "      --fill-color: #D2E3FC;\n",
              "      --hover-bg-color: #434B5C;\n",
              "      --hover-fill-color: #FFFFFF;\n",
              "      --disabled-bg-color: #3B4455;\n",
              "      --disabled-fill-color: #666;\n",
              "  }\n",
              "\n",
              "  .colab-df-quickchart {\n",
              "    background-color: var(--bg-color);\n",
              "    border: none;\n",
              "    border-radius: 50%;\n",
              "    cursor: pointer;\n",
              "    display: none;\n",
              "    fill: var(--fill-color);\n",
              "    height: 32px;\n",
              "    padding: 0;\n",
              "    width: 32px;\n",
              "  }\n",
              "\n",
              "  .colab-df-quickchart:hover {\n",
              "    background-color: var(--hover-bg-color);\n",
              "    box-shadow: 0 1px 2px rgba(60, 64, 67, 0.3), 0 1px 3px 1px rgba(60, 64, 67, 0.15);\n",
              "    fill: var(--button-hover-fill-color);\n",
              "  }\n",
              "\n",
              "  .colab-df-quickchart-complete:disabled,\n",
              "  .colab-df-quickchart-complete:disabled:hover {\n",
              "    background-color: var(--disabled-bg-color);\n",
              "    fill: var(--disabled-fill-color);\n",
              "    box-shadow: none;\n",
              "  }\n",
              "\n",
              "  .colab-df-spinner {\n",
              "    border: 2px solid var(--fill-color);\n",
              "    border-color: transparent;\n",
              "    border-bottom-color: var(--fill-color);\n",
              "    animation:\n",
              "      spin 1s steps(1) infinite;\n",
              "  }\n",
              "\n",
              "  @keyframes spin {\n",
              "    0% {\n",
              "      border-color: transparent;\n",
              "      border-bottom-color: var(--fill-color);\n",
              "      border-left-color: var(--fill-color);\n",
              "    }\n",
              "    20% {\n",
              "      border-color: transparent;\n",
              "      border-left-color: var(--fill-color);\n",
              "      border-top-color: var(--fill-color);\n",
              "    }\n",
              "    30% {\n",
              "      border-color: transparent;\n",
              "      border-left-color: var(--fill-color);\n",
              "      border-top-color: var(--fill-color);\n",
              "      border-right-color: var(--fill-color);\n",
              "    }\n",
              "    40% {\n",
              "      border-color: transparent;\n",
              "      border-right-color: var(--fill-color);\n",
              "      border-top-color: var(--fill-color);\n",
              "    }\n",
              "    60% {\n",
              "      border-color: transparent;\n",
              "      border-right-color: var(--fill-color);\n",
              "    }\n",
              "    80% {\n",
              "      border-color: transparent;\n",
              "      border-right-color: var(--fill-color);\n",
              "      border-bottom-color: var(--fill-color);\n",
              "    }\n",
              "    90% {\n",
              "      border-color: transparent;\n",
              "      border-bottom-color: var(--fill-color);\n",
              "    }\n",
              "  }\n",
              "</style>\n",
              "\n",
              "      <script>\n",
              "        async function quickchart(key) {\n",
              "          const quickchartButtonEl =\n",
              "            document.querySelector('#' + key + ' button');\n",
              "          quickchartButtonEl.disabled = true;  // To prevent multiple clicks.\n",
              "          quickchartButtonEl.classList.add('colab-df-spinner');\n",
              "          try {\n",
              "            const charts = await google.colab.kernel.invokeFunction(\n",
              "                'suggestCharts', [key], {});\n",
              "          } catch (error) {\n",
              "            console.error('Error during call to suggestCharts:', error);\n",
              "          }\n",
              "          quickchartButtonEl.classList.remove('colab-df-spinner');\n",
              "          quickchartButtonEl.classList.add('colab-df-quickchart-complete');\n",
              "        }\n",
              "        (() => {\n",
              "          let quickchartButtonEl =\n",
              "            document.querySelector('#df-a35f1e12-a9ef-4fd6-ae0b-96c3097ff173 button');\n",
              "          quickchartButtonEl.style.display =\n",
              "            google.colab.kernel.accessAllowed ? 'block' : 'none';\n",
              "        })();\n",
              "      </script>\n",
              "    </div>\n",
              "    </div>\n",
              "  </div>\n"
            ],
            "application/vnd.google.colaboratory.intrinsic+json": {
              "type": "dataframe",
              "variable_name": "df",
              "summary": "{\n  \"name\": \"df\",\n  \"rows\": 2500,\n  \"fields\": [\n    {\n      \"column\": \"User ID\",\n      \"properties\": {\n        \"dtype\": \"number\",\n        \"std\": 721,\n        \"min\": 1,\n        \"max\": 2500,\n        \"num_unique_values\": 2500,\n        \"samples\": [\n          1448,\n          1115,\n          1065\n        ],\n        \"semantic_type\": \"\",\n        \"description\": \"\"\n      }\n    },\n    {\n      \"column\": \"Subscription Type\",\n      \"properties\": {\n        \"dtype\": \"category\",\n        \"num_unique_values\": 3,\n        \"samples\": [\n          \"Basic\",\n          \"Premium\",\n          \"Standard\"\n        ],\n        \"semantic_type\": \"\",\n        \"description\": \"\"\n      }\n    },\n    {\n      \"column\": \"Monthly Revenue\",\n      \"properties\": {\n        \"dtype\": \"number\",\n        \"std\": 1,\n        \"min\": 10,\n        \"max\": 15,\n        \"num_unique_values\": 6,\n        \"samples\": [\n          10,\n          15,\n          14\n        ],\n        \"semantic_type\": \"\",\n        \"description\": \"\"\n      }\n    },\n    {\n      \"column\": \"Join Date\",\n      \"properties\": {\n        \"dtype\": \"object\",\n        \"num_unique_values\": 300,\n        \"samples\": [\n          \"02-08-22\",\n          \"18-08-22\",\n          \"16-07-22\"\n        ],\n        \"semantic_type\": \"\",\n        \"description\": \"\"\n      }\n    },\n    {\n      \"column\": \"Last Payment Date\",\n      \"properties\": {\n        \"dtype\": \"object\",\n        \"num_unique_values\": 26,\n        \"samples\": [\n          \"20-06-23\",\n          \"06-07-23\",\n          \"10-06-23\"\n        ],\n        \"semantic_type\": \"\",\n        \"description\": \"\"\n      }\n    },\n    {\n      \"column\": \"Country\",\n      \"properties\": {\n        \"dtype\": \"category\",\n        \"num_unique_values\": 10,\n        \"samples\": [\n          \"Spain\",\n          \"Canada\",\n          \"France\"\n        ],\n        \"semantic_type\": \"\",\n        \"description\": \"\"\n      }\n    },\n    {\n      \"column\": \"Age\",\n      \"properties\": {\n        \"dtype\": \"number\",\n        \"std\": 7,\n        \"min\": 26,\n        \"max\": 51,\n        \"num_unique_values\": 26,\n        \"samples\": [\n          37,\n          30,\n          28\n        ],\n        \"semantic_type\": \"\",\n        \"description\": \"\"\n      }\n    },\n    {\n      \"column\": \"Gender\",\n      \"properties\": {\n        \"dtype\": \"category\",\n        \"num_unique_values\": 2,\n        \"samples\": [\n          \"Female\",\n          \"Male\"\n        ],\n        \"semantic_type\": \"\",\n        \"description\": \"\"\n      }\n    },\n    {\n      \"column\": \"Device\",\n      \"properties\": {\n        \"dtype\": \"category\",\n        \"num_unique_values\": 4,\n        \"samples\": [\n          \"Tablet\",\n          \"Laptop\"\n        ],\n        \"semantic_type\": \"\",\n        \"description\": \"\"\n      }\n    },\n    {\n      \"column\": \"Plan Duration\",\n      \"properties\": {\n        \"dtype\": \"category\",\n        \"num_unique_values\": 1,\n        \"samples\": [\n          \"1 Month\"\n        ],\n        \"semantic_type\": \"\",\n        \"description\": \"\"\n      }\n    }\n  ]\n}"
            }
          },
          "metadata": {},
          "execution_count": 3
        }
      ]
    },
    {
      "cell_type": "code",
      "source": [
        "df.columns"
      ],
      "metadata": {
        "id": "VG77xBw66YpP",
        "colab": {
          "base_uri": "https://localhost:8080/"
        },
        "outputId": "b7969e33-6686-40d5-e626-beaf5f4cbc5e"
      },
      "execution_count": 4,
      "outputs": [
        {
          "output_type": "execute_result",
          "data": {
            "text/plain": [
              "Index(['User ID', 'Subscription Type', 'Monthly Revenue', 'Join Date',\n",
              "       'Last Payment Date', 'Country', 'Age', 'Gender', 'Device',\n",
              "       'Plan Duration'],\n",
              "      dtype='object')"
            ]
          },
          "metadata": {},
          "execution_count": 4
        }
      ]
    },
    {
      "cell_type": "code",
      "source": [
        "df.info()\n",
        "df.describe()"
      ],
      "metadata": {
        "colab": {
          "base_uri": "https://localhost:8080/",
          "height": 595
        },
        "id": "GaJOpFVHYNWZ",
        "outputId": "f79042db-390c-4a39-da70-3e6a24d67f46"
      },
      "execution_count": 5,
      "outputs": [
        {
          "output_type": "stream",
          "name": "stdout",
          "text": [
            "<class 'pandas.core.frame.DataFrame'>\n",
            "RangeIndex: 2500 entries, 0 to 2499\n",
            "Data columns (total 10 columns):\n",
            " #   Column             Non-Null Count  Dtype \n",
            "---  ------             --------------  ----- \n",
            " 0   User ID            2500 non-null   int64 \n",
            " 1   Subscription Type  2500 non-null   object\n",
            " 2   Monthly Revenue    2500 non-null   int64 \n",
            " 3   Join Date          2500 non-null   object\n",
            " 4   Last Payment Date  2500 non-null   object\n",
            " 5   Country            2500 non-null   object\n",
            " 6   Age                2500 non-null   int64 \n",
            " 7   Gender             2500 non-null   object\n",
            " 8   Device             2500 non-null   object\n",
            " 9   Plan Duration      2500 non-null   object\n",
            "dtypes: int64(3), object(7)\n",
            "memory usage: 195.4+ KB\n"
          ]
        },
        {
          "output_type": "execute_result",
          "data": {
            "text/plain": [
              "          User ID  Monthly Revenue          Age\n",
              "count  2500.00000      2500.000000  2500.000000\n",
              "mean   1250.50000        12.508400    38.795600\n",
              "std     721.83216         1.686851     7.171778\n",
              "min       1.00000        10.000000    26.000000\n",
              "25%     625.75000        11.000000    32.000000\n",
              "50%    1250.50000        12.000000    39.000000\n",
              "75%    1875.25000        14.000000    45.000000\n",
              "max    2500.00000        15.000000    51.000000"
            ],
            "text/html": [
              "\n",
              "  <div id=\"df-2e45bcf5-c38a-4175-8f3c-8f0e8175f7df\" class=\"colab-df-container\">\n",
              "    <div>\n",
              "<style scoped>\n",
              "    .dataframe tbody tr th:only-of-type {\n",
              "        vertical-align: middle;\n",
              "    }\n",
              "\n",
              "    .dataframe tbody tr th {\n",
              "        vertical-align: top;\n",
              "    }\n",
              "\n",
              "    .dataframe thead th {\n",
              "        text-align: right;\n",
              "    }\n",
              "</style>\n",
              "<table border=\"1\" class=\"dataframe\">\n",
              "  <thead>\n",
              "    <tr style=\"text-align: right;\">\n",
              "      <th></th>\n",
              "      <th>User ID</th>\n",
              "      <th>Monthly Revenue</th>\n",
              "      <th>Age</th>\n",
              "    </tr>\n",
              "  </thead>\n",
              "  <tbody>\n",
              "    <tr>\n",
              "      <th>count</th>\n",
              "      <td>2500.00000</td>\n",
              "      <td>2500.000000</td>\n",
              "      <td>2500.000000</td>\n",
              "    </tr>\n",
              "    <tr>\n",
              "      <th>mean</th>\n",
              "      <td>1250.50000</td>\n",
              "      <td>12.508400</td>\n",
              "      <td>38.795600</td>\n",
              "    </tr>\n",
              "    <tr>\n",
              "      <th>std</th>\n",
              "      <td>721.83216</td>\n",
              "      <td>1.686851</td>\n",
              "      <td>7.171778</td>\n",
              "    </tr>\n",
              "    <tr>\n",
              "      <th>min</th>\n",
              "      <td>1.00000</td>\n",
              "      <td>10.000000</td>\n",
              "      <td>26.000000</td>\n",
              "    </tr>\n",
              "    <tr>\n",
              "      <th>25%</th>\n",
              "      <td>625.75000</td>\n",
              "      <td>11.000000</td>\n",
              "      <td>32.000000</td>\n",
              "    </tr>\n",
              "    <tr>\n",
              "      <th>50%</th>\n",
              "      <td>1250.50000</td>\n",
              "      <td>12.000000</td>\n",
              "      <td>39.000000</td>\n",
              "    </tr>\n",
              "    <tr>\n",
              "      <th>75%</th>\n",
              "      <td>1875.25000</td>\n",
              "      <td>14.000000</td>\n",
              "      <td>45.000000</td>\n",
              "    </tr>\n",
              "    <tr>\n",
              "      <th>max</th>\n",
              "      <td>2500.00000</td>\n",
              "      <td>15.000000</td>\n",
              "      <td>51.000000</td>\n",
              "    </tr>\n",
              "  </tbody>\n",
              "</table>\n",
              "</div>\n",
              "    <div class=\"colab-df-buttons\">\n",
              "\n",
              "  <div class=\"colab-df-container\">\n",
              "    <button class=\"colab-df-convert\" onclick=\"convertToInteractive('df-2e45bcf5-c38a-4175-8f3c-8f0e8175f7df')\"\n",
              "            title=\"Convert this dataframe to an interactive table.\"\n",
              "            style=\"display:none;\">\n",
              "\n",
              "  <svg xmlns=\"http://www.w3.org/2000/svg\" height=\"24px\" viewBox=\"0 -960 960 960\">\n",
              "    <path d=\"M120-120v-720h720v720H120Zm60-500h600v-160H180v160Zm220 220h160v-160H400v160Zm0 220h160v-160H400v160ZM180-400h160v-160H180v160Zm440 0h160v-160H620v160ZM180-180h160v-160H180v160Zm440 0h160v-160H620v160Z\"/>\n",
              "  </svg>\n",
              "    </button>\n",
              "\n",
              "  <style>\n",
              "    .colab-df-container {\n",
              "      display:flex;\n",
              "      gap: 12px;\n",
              "    }\n",
              "\n",
              "    .colab-df-convert {\n",
              "      background-color: #E8F0FE;\n",
              "      border: none;\n",
              "      border-radius: 50%;\n",
              "      cursor: pointer;\n",
              "      display: none;\n",
              "      fill: #1967D2;\n",
              "      height: 32px;\n",
              "      padding: 0 0 0 0;\n",
              "      width: 32px;\n",
              "    }\n",
              "\n",
              "    .colab-df-convert:hover {\n",
              "      background-color: #E2EBFA;\n",
              "      box-shadow: 0px 1px 2px rgba(60, 64, 67, 0.3), 0px 1px 3px 1px rgba(60, 64, 67, 0.15);\n",
              "      fill: #174EA6;\n",
              "    }\n",
              "\n",
              "    .colab-df-buttons div {\n",
              "      margin-bottom: 4px;\n",
              "    }\n",
              "\n",
              "    [theme=dark] .colab-df-convert {\n",
              "      background-color: #3B4455;\n",
              "      fill: #D2E3FC;\n",
              "    }\n",
              "\n",
              "    [theme=dark] .colab-df-convert:hover {\n",
              "      background-color: #434B5C;\n",
              "      box-shadow: 0px 1px 3px 1px rgba(0, 0, 0, 0.15);\n",
              "      filter: drop-shadow(0px 1px 2px rgba(0, 0, 0, 0.3));\n",
              "      fill: #FFFFFF;\n",
              "    }\n",
              "  </style>\n",
              "\n",
              "    <script>\n",
              "      const buttonEl =\n",
              "        document.querySelector('#df-2e45bcf5-c38a-4175-8f3c-8f0e8175f7df button.colab-df-convert');\n",
              "      buttonEl.style.display =\n",
              "        google.colab.kernel.accessAllowed ? 'block' : 'none';\n",
              "\n",
              "      async function convertToInteractive(key) {\n",
              "        const element = document.querySelector('#df-2e45bcf5-c38a-4175-8f3c-8f0e8175f7df');\n",
              "        const dataTable =\n",
              "          await google.colab.kernel.invokeFunction('convertToInteractive',\n",
              "                                                    [key], {});\n",
              "        if (!dataTable) return;\n",
              "\n",
              "        const docLinkHtml = 'Like what you see? Visit the ' +\n",
              "          '<a target=\"_blank\" href=https://colab.research.google.com/notebooks/data_table.ipynb>data table notebook</a>'\n",
              "          + ' to learn more about interactive tables.';\n",
              "        element.innerHTML = '';\n",
              "        dataTable['output_type'] = 'display_data';\n",
              "        await google.colab.output.renderOutput(dataTable, element);\n",
              "        const docLink = document.createElement('div');\n",
              "        docLink.innerHTML = docLinkHtml;\n",
              "        element.appendChild(docLink);\n",
              "      }\n",
              "    </script>\n",
              "  </div>\n",
              "\n",
              "\n",
              "    <div id=\"df-4409ad5c-5741-4f57-9973-f0d36b23660d\">\n",
              "      <button class=\"colab-df-quickchart\" onclick=\"quickchart('df-4409ad5c-5741-4f57-9973-f0d36b23660d')\"\n",
              "                title=\"Suggest charts\"\n",
              "                style=\"display:none;\">\n",
              "\n",
              "<svg xmlns=\"http://www.w3.org/2000/svg\" height=\"24px\"viewBox=\"0 0 24 24\"\n",
              "     width=\"24px\">\n",
              "    <g>\n",
              "        <path d=\"M19 3H5c-1.1 0-2 .9-2 2v14c0 1.1.9 2 2 2h14c1.1 0 2-.9 2-2V5c0-1.1-.9-2-2-2zM9 17H7v-7h2v7zm4 0h-2V7h2v10zm4 0h-2v-4h2v4z\"/>\n",
              "    </g>\n",
              "</svg>\n",
              "      </button>\n",
              "\n",
              "<style>\n",
              "  .colab-df-quickchart {\n",
              "      --bg-color: #E8F0FE;\n",
              "      --fill-color: #1967D2;\n",
              "      --hover-bg-color: #E2EBFA;\n",
              "      --hover-fill-color: #174EA6;\n",
              "      --disabled-fill-color: #AAA;\n",
              "      --disabled-bg-color: #DDD;\n",
              "  }\n",
              "\n",
              "  [theme=dark] .colab-df-quickchart {\n",
              "      --bg-color: #3B4455;\n",
              "      --fill-color: #D2E3FC;\n",
              "      --hover-bg-color: #434B5C;\n",
              "      --hover-fill-color: #FFFFFF;\n",
              "      --disabled-bg-color: #3B4455;\n",
              "      --disabled-fill-color: #666;\n",
              "  }\n",
              "\n",
              "  .colab-df-quickchart {\n",
              "    background-color: var(--bg-color);\n",
              "    border: none;\n",
              "    border-radius: 50%;\n",
              "    cursor: pointer;\n",
              "    display: none;\n",
              "    fill: var(--fill-color);\n",
              "    height: 32px;\n",
              "    padding: 0;\n",
              "    width: 32px;\n",
              "  }\n",
              "\n",
              "  .colab-df-quickchart:hover {\n",
              "    background-color: var(--hover-bg-color);\n",
              "    box-shadow: 0 1px 2px rgba(60, 64, 67, 0.3), 0 1px 3px 1px rgba(60, 64, 67, 0.15);\n",
              "    fill: var(--button-hover-fill-color);\n",
              "  }\n",
              "\n",
              "  .colab-df-quickchart-complete:disabled,\n",
              "  .colab-df-quickchart-complete:disabled:hover {\n",
              "    background-color: var(--disabled-bg-color);\n",
              "    fill: var(--disabled-fill-color);\n",
              "    box-shadow: none;\n",
              "  }\n",
              "\n",
              "  .colab-df-spinner {\n",
              "    border: 2px solid var(--fill-color);\n",
              "    border-color: transparent;\n",
              "    border-bottom-color: var(--fill-color);\n",
              "    animation:\n",
              "      spin 1s steps(1) infinite;\n",
              "  }\n",
              "\n",
              "  @keyframes spin {\n",
              "    0% {\n",
              "      border-color: transparent;\n",
              "      border-bottom-color: var(--fill-color);\n",
              "      border-left-color: var(--fill-color);\n",
              "    }\n",
              "    20% {\n",
              "      border-color: transparent;\n",
              "      border-left-color: var(--fill-color);\n",
              "      border-top-color: var(--fill-color);\n",
              "    }\n",
              "    30% {\n",
              "      border-color: transparent;\n",
              "      border-left-color: var(--fill-color);\n",
              "      border-top-color: var(--fill-color);\n",
              "      border-right-color: var(--fill-color);\n",
              "    }\n",
              "    40% {\n",
              "      border-color: transparent;\n",
              "      border-right-color: var(--fill-color);\n",
              "      border-top-color: var(--fill-color);\n",
              "    }\n",
              "    60% {\n",
              "      border-color: transparent;\n",
              "      border-right-color: var(--fill-color);\n",
              "    }\n",
              "    80% {\n",
              "      border-color: transparent;\n",
              "      border-right-color: var(--fill-color);\n",
              "      border-bottom-color: var(--fill-color);\n",
              "    }\n",
              "    90% {\n",
              "      border-color: transparent;\n",
              "      border-bottom-color: var(--fill-color);\n",
              "    }\n",
              "  }\n",
              "</style>\n",
              "\n",
              "      <script>\n",
              "        async function quickchart(key) {\n",
              "          const quickchartButtonEl =\n",
              "            document.querySelector('#' + key + ' button');\n",
              "          quickchartButtonEl.disabled = true;  // To prevent multiple clicks.\n",
              "          quickchartButtonEl.classList.add('colab-df-spinner');\n",
              "          try {\n",
              "            const charts = await google.colab.kernel.invokeFunction(\n",
              "                'suggestCharts', [key], {});\n",
              "          } catch (error) {\n",
              "            console.error('Error during call to suggestCharts:', error);\n",
              "          }\n",
              "          quickchartButtonEl.classList.remove('colab-df-spinner');\n",
              "          quickchartButtonEl.classList.add('colab-df-quickchart-complete');\n",
              "        }\n",
              "        (() => {\n",
              "          let quickchartButtonEl =\n",
              "            document.querySelector('#df-4409ad5c-5741-4f57-9973-f0d36b23660d button');\n",
              "          quickchartButtonEl.style.display =\n",
              "            google.colab.kernel.accessAllowed ? 'block' : 'none';\n",
              "        })();\n",
              "      </script>\n",
              "    </div>\n",
              "    </div>\n",
              "  </div>\n"
            ],
            "application/vnd.google.colaboratory.intrinsic+json": {
              "type": "dataframe",
              "summary": "{\n  \"name\": \"df\",\n  \"rows\": 8,\n  \"fields\": [\n    {\n      \"column\": \"User ID\",\n      \"properties\": {\n        \"dtype\": \"number\",\n        \"std\": 900.7073161176459,\n        \"min\": 1.0,\n        \"max\": 2500.0,\n        \"num_unique_values\": 6,\n        \"samples\": [\n          2500.0,\n          1250.5,\n          1875.25\n        ],\n        \"semantic_type\": \"\",\n        \"description\": \"\"\n      }\n    },\n    {\n      \"column\": \"Monthly Revenue\",\n      \"properties\": {\n        \"dtype\": \"number\",\n        \"std\": 880.0444435915687,\n        \"min\": 1.6868513944775492,\n        \"max\": 2500.0,\n        \"num_unique_values\": 8,\n        \"samples\": [\n          12.5084,\n          12.0,\n          2500.0\n        ],\n        \"semantic_type\": \"\",\n        \"description\": \"\"\n      }\n    },\n    {\n      \"column\": \"Age\",\n      \"properties\": {\n        \"dtype\": \"number\",\n        \"std\": 871.9158499704185,\n        \"min\": 7.171777631644703,\n        \"max\": 2500.0,\n        \"num_unique_values\": 8,\n        \"samples\": [\n          38.7956,\n          39.0,\n          2500.0\n        ],\n        \"semantic_type\": \"\",\n        \"description\": \"\"\n      }\n    }\n  ]\n}"
            }
          },
          "metadata": {},
          "execution_count": 5
        }
      ]
    },
    {
      "cell_type": "markdown",
      "source": [
        "# Приведение столбцов к стилю camel_case"
      ],
      "metadata": {
        "id": "pRetML-V6JTR"
      }
    },
    {
      "cell_type": "code",
      "source": [
        "def to_camel_case(s):\n",
        "    parts = s.split()\n",
        "    return parts[0].lower() + ''.join(word.capitalize() for word in parts[1:])\n",
        "\n",
        "df.columns = [to_camel_case(col) for col in df.columns]"
      ],
      "metadata": {
        "id": "gJJWX6xt6T1m"
      },
      "execution_count": 6,
      "outputs": []
    },
    {
      "cell_type": "code",
      "source": [],
      "metadata": {
        "id": "B-gC_2PaZVGA"
      },
      "execution_count": 6,
      "outputs": []
    },
    {
      "cell_type": "markdown",
      "source": [
        "# Приведение типов данных"
      ],
      "metadata": {
        "id": "uMlYPMb86m5W"
      }
    },
    {
      "cell_type": "code",
      "source": [
        "df['joinDate'] = pd.to_datetime(df['joindate'])\n",
        "df['lastPaymentDate'] = pd.to_datetime(df['lastpaymentdate'])"
      ],
      "metadata": {
        "id": "qt1WFUwh70Wa",
        "colab": {
          "base_uri": "https://localhost:8080/",
          "height": 547
        },
        "outputId": "e091cfe4-ef30-4e68-f56c-b7267f70ca2c"
      },
      "execution_count": 7,
      "outputs": [
        {
          "output_type": "error",
          "ename": "KeyError",
          "evalue": "'joindate'",
          "traceback": [
            "\u001b[0;31m---------------------------------------------------------------------------\u001b[0m",
            "\u001b[0;31mKeyError\u001b[0m                                  Traceback (most recent call last)",
            "\u001b[0;32m/usr/local/lib/python3.12/dist-packages/pandas/core/indexes/base.py\u001b[0m in \u001b[0;36mget_loc\u001b[0;34m(self, key)\u001b[0m\n\u001b[1;32m   3804\u001b[0m         \u001b[0;32mtry\u001b[0m\u001b[0;34m:\u001b[0m\u001b[0;34m\u001b[0m\u001b[0;34m\u001b[0m\u001b[0m\n\u001b[0;32m-> 3805\u001b[0;31m             \u001b[0;32mreturn\u001b[0m \u001b[0mself\u001b[0m\u001b[0;34m.\u001b[0m\u001b[0m_engine\u001b[0m\u001b[0;34m.\u001b[0m\u001b[0mget_loc\u001b[0m\u001b[0;34m(\u001b[0m\u001b[0mcasted_key\u001b[0m\u001b[0;34m)\u001b[0m\u001b[0;34m\u001b[0m\u001b[0;34m\u001b[0m\u001b[0m\n\u001b[0m\u001b[1;32m   3806\u001b[0m         \u001b[0;32mexcept\u001b[0m \u001b[0mKeyError\u001b[0m \u001b[0;32mas\u001b[0m \u001b[0merr\u001b[0m\u001b[0;34m:\u001b[0m\u001b[0;34m\u001b[0m\u001b[0;34m\u001b[0m\u001b[0m\n",
            "\u001b[0;32mindex.pyx\u001b[0m in \u001b[0;36mpandas._libs.index.IndexEngine.get_loc\u001b[0;34m()\u001b[0m\n",
            "\u001b[0;32mindex.pyx\u001b[0m in \u001b[0;36mpandas._libs.index.IndexEngine.get_loc\u001b[0;34m()\u001b[0m\n",
            "\u001b[0;32mpandas/_libs/hashtable_class_helper.pxi\u001b[0m in \u001b[0;36mpandas._libs.hashtable.PyObjectHashTable.get_item\u001b[0;34m()\u001b[0m\n",
            "\u001b[0;32mpandas/_libs/hashtable_class_helper.pxi\u001b[0m in \u001b[0;36mpandas._libs.hashtable.PyObjectHashTable.get_item\u001b[0;34m()\u001b[0m\n",
            "\u001b[0;31mKeyError\u001b[0m: 'joindate'",
            "\nThe above exception was the direct cause of the following exception:\n",
            "\u001b[0;31mKeyError\u001b[0m                                  Traceback (most recent call last)",
            "\u001b[0;32m/tmp/ipython-input-3656414996.py\u001b[0m in \u001b[0;36m<cell line: 0>\u001b[0;34m()\u001b[0m\n\u001b[0;32m----> 1\u001b[0;31m \u001b[0mdf\u001b[0m\u001b[0;34m[\u001b[0m\u001b[0;34m'joinDate'\u001b[0m\u001b[0;34m]\u001b[0m \u001b[0;34m=\u001b[0m \u001b[0mpd\u001b[0m\u001b[0;34m.\u001b[0m\u001b[0mto_datetime\u001b[0m\u001b[0;34m(\u001b[0m\u001b[0mdf\u001b[0m\u001b[0;34m[\u001b[0m\u001b[0;34m'joindate'\u001b[0m\u001b[0;34m]\u001b[0m\u001b[0;34m)\u001b[0m\u001b[0;34m\u001b[0m\u001b[0;34m\u001b[0m\u001b[0m\n\u001b[0m\u001b[1;32m      2\u001b[0m \u001b[0mdf\u001b[0m\u001b[0;34m[\u001b[0m\u001b[0;34m'lastPaymentDate'\u001b[0m\u001b[0;34m]\u001b[0m \u001b[0;34m=\u001b[0m \u001b[0mpd\u001b[0m\u001b[0;34m.\u001b[0m\u001b[0mto_datetime\u001b[0m\u001b[0;34m(\u001b[0m\u001b[0mdf\u001b[0m\u001b[0;34m[\u001b[0m\u001b[0;34m'lastpaymentdate'\u001b[0m\u001b[0;34m]\u001b[0m\u001b[0;34m)\u001b[0m\u001b[0;34m\u001b[0m\u001b[0;34m\u001b[0m\u001b[0m\n",
            "\u001b[0;32m/usr/local/lib/python3.12/dist-packages/pandas/core/frame.py\u001b[0m in \u001b[0;36m__getitem__\u001b[0;34m(self, key)\u001b[0m\n\u001b[1;32m   4100\u001b[0m             \u001b[0;32mif\u001b[0m \u001b[0mself\u001b[0m\u001b[0;34m.\u001b[0m\u001b[0mcolumns\u001b[0m\u001b[0;34m.\u001b[0m\u001b[0mnlevels\u001b[0m \u001b[0;34m>\u001b[0m \u001b[0;36m1\u001b[0m\u001b[0;34m:\u001b[0m\u001b[0;34m\u001b[0m\u001b[0;34m\u001b[0m\u001b[0m\n\u001b[1;32m   4101\u001b[0m                 \u001b[0;32mreturn\u001b[0m \u001b[0mself\u001b[0m\u001b[0;34m.\u001b[0m\u001b[0m_getitem_multilevel\u001b[0m\u001b[0;34m(\u001b[0m\u001b[0mkey\u001b[0m\u001b[0;34m)\u001b[0m\u001b[0;34m\u001b[0m\u001b[0;34m\u001b[0m\u001b[0m\n\u001b[0;32m-> 4102\u001b[0;31m             \u001b[0mindexer\u001b[0m \u001b[0;34m=\u001b[0m \u001b[0mself\u001b[0m\u001b[0;34m.\u001b[0m\u001b[0mcolumns\u001b[0m\u001b[0;34m.\u001b[0m\u001b[0mget_loc\u001b[0m\u001b[0;34m(\u001b[0m\u001b[0mkey\u001b[0m\u001b[0;34m)\u001b[0m\u001b[0;34m\u001b[0m\u001b[0;34m\u001b[0m\u001b[0m\n\u001b[0m\u001b[1;32m   4103\u001b[0m             \u001b[0;32mif\u001b[0m \u001b[0mis_integer\u001b[0m\u001b[0;34m(\u001b[0m\u001b[0mindexer\u001b[0m\u001b[0;34m)\u001b[0m\u001b[0;34m:\u001b[0m\u001b[0;34m\u001b[0m\u001b[0;34m\u001b[0m\u001b[0m\n\u001b[1;32m   4104\u001b[0m                 \u001b[0mindexer\u001b[0m \u001b[0;34m=\u001b[0m \u001b[0;34m[\u001b[0m\u001b[0mindexer\u001b[0m\u001b[0;34m]\u001b[0m\u001b[0;34m\u001b[0m\u001b[0;34m\u001b[0m\u001b[0m\n",
            "\u001b[0;32m/usr/local/lib/python3.12/dist-packages/pandas/core/indexes/base.py\u001b[0m in \u001b[0;36mget_loc\u001b[0;34m(self, key)\u001b[0m\n\u001b[1;32m   3810\u001b[0m             ):\n\u001b[1;32m   3811\u001b[0m                 \u001b[0;32mraise\u001b[0m \u001b[0mInvalidIndexError\u001b[0m\u001b[0;34m(\u001b[0m\u001b[0mkey\u001b[0m\u001b[0;34m)\u001b[0m\u001b[0;34m\u001b[0m\u001b[0;34m\u001b[0m\u001b[0m\n\u001b[0;32m-> 3812\u001b[0;31m             \u001b[0;32mraise\u001b[0m \u001b[0mKeyError\u001b[0m\u001b[0;34m(\u001b[0m\u001b[0mkey\u001b[0m\u001b[0;34m)\u001b[0m \u001b[0;32mfrom\u001b[0m \u001b[0merr\u001b[0m\u001b[0;34m\u001b[0m\u001b[0;34m\u001b[0m\u001b[0m\n\u001b[0m\u001b[1;32m   3813\u001b[0m         \u001b[0;32mexcept\u001b[0m \u001b[0mTypeError\u001b[0m\u001b[0;34m:\u001b[0m\u001b[0;34m\u001b[0m\u001b[0;34m\u001b[0m\u001b[0m\n\u001b[1;32m   3814\u001b[0m             \u001b[0;31m# If we have a listlike key, _check_indexing_error will raise\u001b[0m\u001b[0;34m\u001b[0m\u001b[0;34m\u001b[0m\u001b[0m\n",
            "\u001b[0;31mKeyError\u001b[0m: 'joindate'"
          ]
        }
      ]
    },
    {
      "cell_type": "code",
      "source": [
        "df.dtypes"
      ],
      "metadata": {
        "id": "iIHqaUWCY-_T"
      },
      "execution_count": null,
      "outputs": []
    },
    {
      "cell_type": "markdown",
      "source": [
        "# Поиск дублей и пропусков в данных"
      ],
      "metadata": {
        "id": "swsLyun_6E5q"
      }
    },
    {
      "cell_type": "code",
      "source": [
        "duplicates = df[df.duplicated()]\n",
        "print(f\"Количество дубликатов: {len(duplicates)}\")"
      ],
      "metadata": {
        "id": "lKwRhfh55_uj"
      },
      "execution_count": null,
      "outputs": []
    },
    {
      "cell_type": "code",
      "source": [
        "missing = df.isnull().sum()\n",
        "print(missing)"
      ],
      "metadata": {
        "id": "EAz69Fu5Z0N3"
      },
      "execution_count": null,
      "outputs": []
    },
    {
      "cell_type": "code",
      "source": [
        "df['age'] = df['age'].fillna(df['age'].median())"
      ],
      "metadata": {
        "id": "7ra8Xb7tZ4aJ"
      },
      "execution_count": null,
      "outputs": []
    },
    {
      "cell_type": "markdown",
      "source": [
        "# Исследовательский анализ данных"
      ],
      "metadata": {
        "id": "P9nxLkBt8AXm"
      }
    },
    {
      "cell_type": "code",
      "source": [
        "print(df.describe(include='all'))"
      ],
      "metadata": {
        "id": "NdlMgpIaCnWj"
      },
      "execution_count": null,
      "outputs": []
    },
    {
      "cell_type": "code",
      "source": [
        "unique_users_count = df['userid'].nunique()\n",
        "print(f\"Количество уникальных пользователей: {unique_users_count}\")"
      ],
      "metadata": {
        "id": "HZkprOqt6SEo"
      },
      "execution_count": null,
      "outputs": []
    },
    {
      "cell_type": "code",
      "source": [
        "# изучить возраст пользователей (визуализировать)\n",
        "import matplotlib.pyplot as plt\n",
        "import seaborn as sns\n",
        "\n",
        "plt.figure(figsize=(10, 6))\n",
        "sns.histplot(df['age'], bins=20, kde=True, color='skyblue')\n",
        "plt.title('Распределение возрастов пользователей')\n",
        "plt.xlabel('Возраст')\n",
        "plt.ylabel('Количество пользователей')\n",
        "plt.grid(True)\n",
        "plt.show()\n",
        "# Создаем возрастные группы\n",
        "df['ageGroup'] = pd.cut(df['age'],\n",
        "                        bins=[0, 18, 25, 35, 45, 55, 65, 100],\n",
        "                        labels=['<18', '18-25', '25-35', '35-45', '45-55', '55-65', '65+'])\n",
        "\n",
        "# Считаем количество пользователей в каждой группе\n",
        "age_group_counts = df['ageGroup'].value_counts().sort_index()\n",
        "\n",
        "# Визуализация\n",
        "plt.figure(figsize=(10, 6))\n",
        "sns.barplot(x=age_group_counts.index, y=age_group_counts.values, palette='viridis')\n",
        "plt.title('Количество пользователей по возрастным группам')\n",
        "plt.xlabel('Возрастная группа')\n",
        "plt.ylabel('Число пользователей')\n",
        "plt.xticks(rotation=45)\n",
        "plt.grid(True)\n",
        "plt.show()\n",
        "\n",
        "plt.figure(figsize=(8, 6))\n",
        "sns.boxplot(x=df['age'])\n",
        "plt.title('Boxplot: Возраст пользователей')\n",
        "plt.xlabel('Возраст')\n",
        "plt.grid(True)\n",
        "plt.show()"
      ],
      "metadata": {
        "id": "1jdMFAgFCtju"
      },
      "execution_count": null,
      "outputs": []
    },
    {
      "cell_type": "code",
      "source": [
        "import plotly.express as px\n",
        "\n",
        "# Гистограмма распределения возраста\n",
        "fig_hist = px.histogram(df, x='age', nbins=20, title='Распределение возрастов пользователей',\n",
        "                        labels={'age': 'Возраст', 'count': 'Количество'},\n",
        "                        template='plotly_white')\n",
        "fig_hist.update_layout(bargap=0.1)\n",
        "fig_hist.show()\n",
        "# Создаем возрастные группы\n",
        "df['ageGroup'] = pd.cut(df['age'],\n",
        "                        bins=[0, 18, 25, 35, 45, 55, 65, 100],\n",
        "                        labels=['<18', '18-25', '25-35', '35-45', '45-55', '55-65', '65+'])\n",
        "\n",
        "# Считаем количество пользователей в каждой группе\n",
        "age_group_counts = df['ageGroup'].value_counts().reset_index()\n",
        "age_group_counts.columns = ['ageGroup', 'count']\n",
        "age_group_counts = age_group_counts.sort_values('ageGroup')\n",
        "fig_bar = px.bar(age_group_counts, x='ageGroup', y='count',\n",
        "                 title='Количество пользователей по возрастным группам',\n",
        "                 labels={'ageGroup': 'Возрастная группа', 'count': 'Число пользователей'},\n",
        "                 template='plotly_white',\n",
        "                 color='count',\n",
        "                 color_continuous_scale='Viridis')\n",
        "\n",
        "fig_bar.update_layout(xaxis_tickangle=-45)\n",
        "fig_bar.show()"
      ],
      "metadata": {
        "id": "igfX-XJsa8fd"
      },
      "execution_count": null,
      "outputs": []
    },
    {
      "cell_type": "code",
      "source": [
        "# изучить пол пользователей (визуализировать)\n",
        "print(df['gender'].value_counts(dropna=False))\n",
        "df['gender'] = df['gender'].str.strip().str.lower()\n",
        "df['gender'] = df['gender'].replace({'m': 'male', 'f': 'female'})"
      ],
      "metadata": {
        "id": "LUZ2b068CtgZ"
      },
      "execution_count": null,
      "outputs": []
    },
    {
      "cell_type": "code",
      "source": [
        "import plotly.express as px\n",
        "\n",
        "fig_pie = px.pie(\n",
        "    df,\n",
        "    names='gender',\n",
        "    title='Распределение пользователей по полу',\n",
        "    color_discrete_sequence=px.colors.sequential.Viridis,\n",
        "    hole=0.4\n",
        ")\n",
        "\n",
        "fig_pie.update_traces(textposition='inside', textinfo='percent+label')\n",
        "fig_pie.show()"
      ],
      "metadata": {
        "id": "lLiwm8d7hsbL"
      },
      "execution_count": null,
      "outputs": []
    },
    {
      "cell_type": "code",
      "source": [
        "import seaborn as sns\n",
        "import matplotlib.pyplot as plt\n",
        "\n",
        "plt.figure(figsize=(8, 5))\n",
        "sns.countplot(data=df, x='gender', palette='viridis')\n",
        "plt.title('Количество пользователей по полу')\n",
        "plt.xlabel('Пол')\n",
        "plt.ylabel('Число пользователей')\n",
        "plt.xticks(rotation=0)\n",
        "plt.grid(True, axis='y', linestyle='--', alpha=0.7)\n",
        "plt.show()"
      ],
      "metadata": {
        "id": "z65y7Udwh1yh"
      },
      "execution_count": null,
      "outputs": []
    },
    {
      "cell_type": "code",
      "source": [
        "fig_bar = px.bar(\n",
        "    gender_counts.reset_index(),\n",
        "    x='gender',\n",
        "    y='count',\n",
        "    title='Количество пользователей по полу',\n",
        "    labels={'gender': 'Пол', 'count': 'Число пользователей'},\n",
        "    color='count',\n",
        "    color_continuous_scale='Viridis'\n",
        ")\n",
        "\n",
        "fig_bar.update_layout(template='plotly_white')\n",
        "fig_bar.show()"
      ],
      "metadata": {
        "id": "d87CuzEth4Ka"
      },
      "execution_count": null,
      "outputs": []
    },
    {
      "cell_type": "code",
      "source": [
        "# изучить девайсы пользователей (визуализировать)\n",
        "print(df['device'].value_counts(dropna=False))\n",
        "df['device'] = df['device'].str.strip().str.title()\n",
        "device_counts = df['device'].value_counts()\n"
      ],
      "metadata": {
        "id": "eCZuNEZbCtdY"
      },
      "execution_count": null,
      "outputs": []
    },
    {
      "cell_type": "code",
      "source": [
        "import plotly.express as px\n",
        "\n",
        "fig_pie = px.pie(\n",
        "    df,\n",
        "    names='device',\n",
        "    title='Распределение пользователей по устройствам',\n",
        "    color_discrete_sequence=px.colors.sequential.Viridis,\n",
        "    hole=0.4\n",
        ")\n",
        "\n",
        "fig_pie.update_traces(textposition='inside', textinfo='percent+label')\n",
        "fig_pie.show()\n"
      ],
      "metadata": {
        "id": "IUHgdapdiMJ7"
      },
      "execution_count": null,
      "outputs": []
    },
    {
      "cell_type": "code",
      "source": [
        "import matplotlib.pyplot as plt\n",
        "import seaborn as sns\n",
        "\n",
        "plt.figure(figsize=(10, 6))\n",
        "sns.countplot(data=df, x='device', palette='viridis', order=device_counts.index)\n",
        "plt.title('Количество пользователей по устройствам')\n",
        "plt.xlabel('Устройство')\n",
        "plt.ylabel('Число пользователей')\n",
        "plt.xticks(rotation=45)\n",
        "plt.grid(True, axis='y', linestyle='--', alpha=0.7)\n",
        "plt.tight_layout()\n",
        "plt.show()"
      ],
      "metadata": {
        "id": "EzI3BNruiY_H"
      },
      "execution_count": null,
      "outputs": []
    },
    {
      "cell_type": "code",
      "source": [
        "fig_bar = px.bar(\n",
        "    device_counts.reset_index(),\n",
        "    x='device',\n",
        "    y='count',\n",
        "    title='Количество пользователей по устройствам',\n",
        "    labels={'device': 'Устройство', 'count': 'Число пользователей'},\n",
        "    color='count',\n",
        "    color_continuous_scale='Viridis'\n",
        ")\n",
        "\n",
        "fig_bar.update_layout(template='plotly_white', xaxis_tickangle=-45)\n",
        "fig_bar.show()"
      ],
      "metadata": {
        "id": "IZMNUorUibY0"
      },
      "execution_count": null,
      "outputs": []
    },
    {
      "cell_type": "code",
      "source": [
        "# изучить тип подписки пользователей (визуализировать)\n",
        "print(df['subscriptiontype'].value_counts(dropna=False))\n",
        "df['subscriptiontype'] = df['subscriptiontype'].str.strip().str.title()\n",
        "subscription_counts = df['subscriptiontype'].value_counts()\n"
      ],
      "metadata": {
        "id": "jv9mO24HDCvE"
      },
      "execution_count": null,
      "outputs": []
    },
    {
      "cell_type": "code",
      "source": [
        "import plotly.express as px\n",
        "\n",
        "fig_pie = px.pie(\n",
        "    df,\n",
        "    names='subscriptiontype',\n",
        "    title='Распределение пользователей по типам подписок',\n",
        "    color_discrete_sequence=px.colors.sequential.Viridis,\n",
        "    hole=0.4\n",
        ")\n",
        "\n",
        "fig_pie.update_traces(textposition='inside', textinfo='percent+label')\n",
        "fig_pie.show()"
      ],
      "metadata": {
        "id": "2dfPHxtHizPc"
      },
      "execution_count": null,
      "outputs": []
    },
    {
      "cell_type": "code",
      "source": [
        "import matplotlib.pyplot as plt\n",
        "import seaborn as sns\n",
        "\n",
        "plt.figure(figsize=(8, 5))\n",
        "sns.countplot(data=df, x='subscriptiontype', order=subscription_counts.index, palette='viridis')\n",
        "plt.title('Количество пользователей по типам подписок')\n",
        "plt.xlabel('Тип подписки')\n",
        "plt.ylabel('Число пользователей')\n",
        "plt.xticks(rotation=0)\n",
        "plt.grid(True, axis='y', linestyle='--', alpha=0.7)\n",
        "plt.tight_layout()\n",
        "plt.show()"
      ],
      "metadata": {
        "id": "xGyJDG6qi2jK"
      },
      "execution_count": null,
      "outputs": []
    },
    {
      "cell_type": "code",
      "source": [
        "fig_bar = px.bar(\n",
        "    subscription_counts.reset_index(),\n",
        "    x='subscriptiontype',\n",
        "    y='count',\n",
        "    title='Количество пользователей по типам подписок',\n",
        "    labels={'subscriptiontype': 'Тип подписки', 'count': 'Число пользователей'},\n",
        "    color='count',\n",
        "    color_continuous_scale='Viridis'\n",
        ")\n",
        "\n",
        "fig_bar.update_layout(template='plotly_white')\n",
        "fig_bar.show()"
      ],
      "metadata": {
        "id": "36eL8_Fwi7c0"
      },
      "execution_count": null,
      "outputs": []
    },
    {
      "cell_type": "markdown",
      "source": [
        "Если месячная подписка самая популярная, но годовая приносит больше выручки — можно запустить акции на годовые подписки.\n",
        "Можно сделать рассечку по странам, устройствам или возрасту, чтобы понять, у какой аудитории какие предпочтения."
      ],
      "metadata": {
        "id": "ucd8-5Mcdh-Y"
      }
    },
    {
      "cell_type": "code",
      "source": [
        "# Возрастные группы (если ещё не создавали)\n",
        "df['ageGroup'] = pd.cut(df['age'],\n",
        "                        bins=[0, 18, 25, 35, 45, 55, 65, 100],\n",
        "                        labels=['<18', '18-25', '25-35', '35-45', '45-55', '55-65', '65+'])\n",
        "\n",
        "# Приводим подписки к единому формату\n",
        "df['subscriptiontype'] = df['subscriptiontype'].str.strip().str.title()\n",
        "country_subs = pd.crosstab(index=df['country'], columns=[df['subscriptiontype']])\n",
        "print(country_subs)\n",
        "country_subs.plot(kind='bar', stacked=True, figsize=(12, 6), color=sns.color_palette(\"viridis\", len(country_subs.columns)))\n",
        "plt.title('Типы подписок по странам')\n",
        "plt.xlabel('Страна')\n",
        "plt.ylabel('Число пользователей')\n",
        "plt.xticks(rotation=45)\n",
        "plt.legend(title='Тип подписки')\n",
        "plt.tight_layout()\n",
        "plt.show()"
      ],
      "metadata": {
        "id": "ExshZX6eeElH"
      },
      "execution_count": null,
      "outputs": []
    },
    {
      "cell_type": "code",
      "source": [
        "device_subs = pd.crosstab(index=df['device'], columns=df['subscriptiontype'])\n",
        "print(device_subs)\n",
        "device_subs.plot(kind='bar', stacked=True, figsize=(10, 6), color=sns.color_palette(\"viridis\", len(device_subs.columns)))\n",
        "plt.title('Типы подписок по устройствам')\n",
        "plt.xlabel('Устройство')\n",
        "plt.ylabel('Число пользователей')\n",
        "plt.xticks(rotation=45)\n",
        "plt.legend(title='Тип подписки')\n",
        "plt.tight_layout()\n",
        "plt.show()"
      ],
      "metadata": {
        "id": "3Q6mtErvefvz"
      },
      "execution_count": null,
      "outputs": []
    },
    {
      "cell_type": "code",
      "source": [
        "age_subs = pd.crosstab(index=df['ageGroup'], columns=df['subscriptiontype'])\n",
        "print(age_subs)\n",
        "age_subs.plot(kind='bar', stacked=True, figsize=(10, 6), color=sns.color_palette(\"viridis\", len(age_subs.columns)))\n",
        "plt.title('Типы подписок по возрастным группам')\n",
        "plt.xlabel('Возрастная группа')\n",
        "plt.ylabel('Число пользователей')\n",
        "plt.xticks(rotation=45)\n",
        "plt.legend(title='Тип подписки')\n",
        "plt.tight_layout()\n",
        "plt.show()"
      ],
      "metadata": {
        "id": "9l7WWW00eqVW"
      },
      "execution_count": null,
      "outputs": []
    },
    {
      "cell_type": "code",
      "source": [
        "# изучить локацию пользователей (визуализировать)\n",
        "# Приведём к единому регистру и уберём лишние пробелы\n",
        "df['country'] = df['country'].str.strip().str.title()\n",
        "country_counts = df['country'].value_counts().reset_index()\n",
        "country_counts.columns = ['country', 'count']\n",
        "import matplotlib.pyplot as plt\n",
        "import seaborn as sns\n",
        "\n",
        "plt.figure(figsize=(12, 6))\n",
        "sns.barplot(data=country_counts, x='country', y='count', palette='viridis')\n",
        "plt.title('Количество пользователей по странам')\n",
        "plt.xlabel('Страна')\n",
        "plt.ylabel('Число пользователей')\n",
        "plt.xticks(rotation=45)\n",
        "plt.grid(True, axis='y', linestyle='--', alpha=0.7)\n",
        "plt.tight_layout()\n",
        "plt.show()\n"
      ],
      "metadata": {
        "id": "B-4aiRnLCtah"
      },
      "execution_count": null,
      "outputs": []
    },
    {
      "cell_type": "code",
      "source": [
        "\n",
        "import plotly.express as px\n",
        "\n",
        "fig_pie = px.pie(\n",
        "    country_counts,\n",
        "    names='country',\n",
        "    values='count',\n",
        "    title='Доля пользователей по странам',\n",
        "    color_discrete_sequence=px.colors.sequential.Viridis\n",
        ")\n",
        "\n",
        "fig_pie.update_traces(textposition='inside', textinfo='percent+label')\n",
        "fig_pie.show()\n",
        "\n"
      ],
      "metadata": {
        "id": "66k7pe6IjPa7"
      },
      "execution_count": null,
      "outputs": []
    },
    {
      "cell_type": "code",
      "source": [
        "fig_map = px.choropleth(\n",
        "    country_counts,\n",
        "    locations='country',\n",
        "    locationmode='country names',\n",
        "    color='count',\n",
        "    color_continuous_scale='Viridis',\n",
        "    range_color=(0, country_counts['count'].max()),\n",
        "    title='Географическое распределение пользователей по странам'\n",
        ")\n",
        "\n",
        "fig_map.update_layout(\n",
        "    geo=dict(showframe=False, showcoastlines=True),\n",
        "    margin={\"r\":0,\"t\":30,\"l\":0,\"b\":0}\n",
        ")\n",
        "\n",
        "fig_map.show()"
      ],
      "metadata": {
        "id": "zimKoZgnfhbr"
      },
      "execution_count": null,
      "outputs": []
    },
    {
      "cell_type": "code",
      "source": [
        "country_revenue = df.groupby('country')['monthlyrevenue'].sum().reset_index()\n",
        "print(country_revenue)\n",
        "fig_revenue_map = px.choropleth(\n",
        "    country_revenue,\n",
        "    locations='country',\n",
        "    locationmode='country names',\n",
        "    color='monthlyrevenue',\n",
        "    color_continuous_scale='Plasma',\n",
        "    title='Общая ежемесячная выручка по странам'\n",
        ")\n",
        "\n",
        "fig_revenue_map.show()"
      ],
      "metadata": {
        "id": "BrQS9BJIfi7j"
      },
      "execution_count": null,
      "outputs": []
    },
    {
      "cell_type": "code",
      "source": [
        "# изучть динамику привлечения пользователей (Join Date)\n",
        "# Убедимся, что дата в формате datetime\n",
        "df['joinDate'] = pd.to_datetime(df['joinDate'])\n",
        "\n",
        "# Отсортируем по дате\n",
        "df_sorted = df.sort_values('joinDate').reset_index(drop=True)\n",
        "\n",
        "# Создадим новый столбец с датой только по дням (можно использовать недели, месяцы)\n",
        "df_sorted['joinDay'] = df_sorted['joinDate'].dt.to_period('D').dt.start_time\n",
        "users_by_day = df_sorted.groupby('joinDay').size().reset_index(name='newUsers')\n",
        "df_sorted['joinMonth'] = df_sorted['joinDate'].dt.to_period('M').dt.start_time\n",
        "users_by_month = df_sorted.groupby('joinMonth').size().reset_index(name='newUsers')\n",
        "import matplotlib.pyplot as plt\n",
        "import seaborn as sns\n",
        "\n",
        "plt.figure(figsize=(12, 6))\n",
        "sns.lineplot(data=users_by_month, x='joinMonth', y='newUsers', marker='o')\n",
        "plt.title('Количество новых пользователей по месяцам')\n",
        "plt.xlabel('Месяц')\n",
        "plt.ylabel('Число новых пользователей')\n",
        "plt.xticks(rotation=45)\n",
        "plt.grid(True)\n",
        "plt.tight_layout()\n",
        "plt.show()"
      ],
      "metadata": {
        "id": "RjApEDkbCtXi"
      },
      "execution_count": null,
      "outputs": []
    },
    {
      "cell_type": "code",
      "source": [
        "import plotly.express as px\n",
        "\n",
        "fig = px.line(\n",
        "    users_by_month,\n",
        "    x='joinMonth',\n",
        "    y='newUsers',\n",
        "    title='Динамика привлечения пользователей по месяцам',\n",
        "    labels={'joinMonth': 'Месяц', 'newUsers': 'Новые пользователи'}\n",
        ")\n",
        "\n",
        "fig.update_xaxes(tickformat=\"%b\\n%Y\")  # Формат отображения дат\n",
        "fig.show()"
      ],
      "metadata": {
        "id": "u-eBmPvkgNA3"
      },
      "execution_count": null,
      "outputs": []
    },
    {
      "cell_type": "code",
      "source": [
        "users_by_day['rolling_avg_7'] = users_by_day['newUsers'].rolling(window=7).mean()\n",
        "\n",
        "plt.figure(figsize=(12, 6))\n",
        "sns.lineplot(data=users_by_day, x='joinDay', y='newUsers', label='Ежедневные новые пользователи')\n",
        "sns.lineplot(data=users_by_day, x='joinDay', y='rolling_avg_7', label='Скользящее среднее (7 дней)', color='red')\n",
        "plt.title('Динамика привлечения пользователей + тренд')\n",
        "plt.xlabel('Дата')\n",
        "plt.ylabel('Число новых пользователей')\n",
        "plt.xticks(rotation=45)\n",
        "plt.legend()\n",
        "plt.grid(True)\n",
        "plt.tight_layout()\n",
        "plt.show()"
      ],
      "metadata": {
        "id": "EyjleZSWgPQd"
      },
      "execution_count": null,
      "outputs": []
    },
    {
      "cell_type": "markdown",
      "source": [
        "Мы узнаем:\n",
        "- Есть ли рост числа регистраций.\n",
        "- Были ли \"всплески\" активности (например, после рекламных кампаний).\n",
        "- Есть ли сезонные колебания (ежегодные/ежемесячные пиковые периоды)."
      ],
      "metadata": {
        "id": "OHZGOM81gTVb"
      }
    },
    {
      "cell_type": "code",
      "source": [
        "import pandas as pd\n",
        "import numpy as np\n",
        "import matplotlib.pyplot as plt\n",
        "import seaborn as sns\n",
        "import plotly.express as px\n",
        "\n",
        "# Убедимся, что даты корректны\n",
        "df['joinDate'] = pd.to_datetime(df['joinDate'])\n",
        "df = df.sort_values('joinDate').reset_index(drop=True)\n",
        "\n",
        "# Добавляем поля для анализа\n",
        "df['joinDay'] = df['joinDate'].dt.to_period('D').dt.start_time\n",
        "df['joinMonth'] = df['joinDate'].dt.to_period('M').dt.start_time\n",
        "df['joinYear'] = df['joinDate'].dt.year\n",
        "df['joinWeekday'] = df['joinDate'].dt.day_name()  # день недели\n",
        "users_by_month_country = df.groupby(['joinMonth', 'country']).size().reset_index(name='newUsers')\n",
        "plt.figure(figsize=(14, 8))\n",
        "sns.lineplot(data=users_by_month_country, x='joinMonth', y='newUsers', hue='country', marker='o', palette='tab10')\n",
        "plt.title('Динамика привлечения пользователей по странам')\n",
        "plt.xlabel('Месяц')\n",
        "plt.ylabel('Число новых пользователей')\n",
        "plt.xticks(rotation=45)\n",
        "plt.grid(True)\n",
        "plt.legend(title='Страна')\n",
        "plt.tight_layout()\n",
        "plt.show()"
      ],
      "metadata": {
        "id": "XTbshfATgeQD"
      },
      "execution_count": null,
      "outputs": []
    },
    {
      "cell_type": "code",
      "source": [
        "# Связь с выручкой\n",
        "revenue_by_month = df.groupby('joinMonth')['monthlyrevenue'].sum().reset_index()\n",
        "fig = px.line(revenue_by_month, x='joinMonth', y='monthlyrevenue', title='Ежемесячная выручка')\n",
        "fig.update_xaxes(tickformat=\"%b\\n%Y\")\n",
        "fig.show()"
      ],
      "metadata": {
        "id": "b1NBC4X9jr5t"
      },
      "execution_count": null,
      "outputs": []
    },
    {
      "cell_type": "code",
      "source": [
        "combined = users_by_month.merge(revenue_by_month, on='joinMonth')\n",
        "\n",
        "fig, ax1 = plt.subplots(figsize=(12, 6))\n",
        "\n",
        "color = 'tab:blue'\n",
        "ax1.set_xlabel('Месяц')\n",
        "ax1.set_ylabel('Новые пользователи', color=color)\n",
        "ax1.plot(combined['joinMonth'], combined['newUsers'], color=color, label='Пользователи', marker='o')\n",
        "ax1.tick_params(axis='y', labelcolor=color)\n",
        "\n",
        "ax2 = ax1.twinx()\n",
        "color = 'tab:red'\n",
        "ax2.set_ylabel('Выручка', color=color)\n",
        "ax2.plot(combined['joinMonth'], combined['monthlyrevenue'], color=color, label='Выручка', linestyle='--')\n",
        "ax2.tick_params(axis='y', labelcolor=color)\n",
        "\n",
        "fig.tight_layout()\n",
        "plt.title('Сравнение роста пользователей и выручки')\n",
        "fig.legend(loc='upper left')\n",
        "plt.grid(True)\n",
        "plt.show()"
      ],
      "metadata": {
        "id": "Llr0Mjf-krvM"
      },
      "execution_count": null,
      "outputs": []
    },
    {
      "cell_type": "code",
      "source": [
        "print(ts['newUsers'].isna().sum())\n",
        "# 1. Убедимся, что ts определён и индексирован верно\n",
        "ts = users_by_month.set_index('joinMonth')\n",
        "ts.index = pd.DatetimeIndex(ts.index)\n",
        "ts = ts.asfreq('MS')  # ежемесячная частота\n",
        "\n",
        "# 2. Проверяем пропуски\n",
        "if ts['newUsers'].isna().any():\n",
        "    print(\"Обнаружены пропуски. Заполняем...\")\n",
        "\n",
        "    # Вариант 1: заполнить нулями (если в месяц не было пользователей)\n",
        "    ts['newUsers'] = ts['newUsers'].fillna(0)\n",
        "\n",
        "    # Вариант 2 (альтернатива): интерполяция\n",
        "    # ts['newUsers'] = ts['newUsers'].interpolate()\n",
        "\n",
        "# 3. Теперь декомпозируем\n",
        "from statsmodels.tsa.seasonal import seasonal_decompose\n",
        "result = seasonal_decompose(ts['newUsers'], model='additive', period=12)\n",
        "result.plot()\n",
        "plt.show()"
      ],
      "metadata": {
        "id": "BxVVzSpLk2AN"
      },
      "execution_count": null,
      "outputs": []
    },
    {
      "cell_type": "code",
      "source": [
        "# Убедимся, что ts содержит достаточно данных\n",
        "print(len(ts))  # Должно быть хотя бы 12–24 месяца\n",
        "\n",
        "# Если данных мало, упростим модель — уберём сезонность\n",
        "model = SARIMAX(ts['newUsers'], order=(1,1,1))  # Без seasonal_order\n",
        "results = model.fit(disp=False)\n",
        "\n",
        "# Прогноз на следующие 6 месяцев\n",
        "forecast = results.get_forecast(steps=6)\n",
        "pred_ci = forecast.conf_int()\n",
        "predictions = forecast.predicted_mean  # Используем predicted_mean вместо predict()\n",
        "import matplotlib.pyplot as plt\n",
        "\n",
        "plt.figure(figsize=(10,6))\n",
        "plt.plot(ts[-24:].index, ts[-24:]['newUsers'], label='История')\n",
        "plt.plot(predictions.index, predictions.values, label='Прогноз', color='r')\n",
        "plt.fill_between(pred_ci.index, pred_ci.iloc[:, 0], pred_ci.iloc[:, 1], color='pink', alpha=0.3)\n",
        "plt.title('Прогноз роста новых пользователей')\n",
        "plt.xlabel('Месяц')\n",
        "plt.ylabel('Число новых пользователей')\n",
        "plt.legend()\n",
        "plt.grid(True)\n",
        "plt.show()"
      ],
      "metadata": {
        "id": "geSQJMa9mfAK"
      },
      "execution_count": null,
      "outputs": []
    },
    {
      "cell_type": "code",
      "source": [
        "# изучть динамику выручки сервиса (накопленное Monthly Revenue по месяцу с момента Join Date до момента Last Payment Date)\n",
        "import pandas as pd\n",
        "import numpy as np\n",
        "\n",
        "# Приведём даты к формату datetime\n",
        "df['joinDate'] = pd.to_datetime(df['joinDate'])\n",
        "df['lastPaymentDate'] = pd.to_datetime(df['lastPaymentDate'])\n",
        "\n",
        "# Убедимся, что lastPaymentDate не раньше joinDate\n",
        "df = df[df['lastPaymentDate'] >= df['joinDate']]\n",
        "\n",
        "def generate_months(row):\n",
        "    months = pd.date_range(\n",
        "        start=row['joinDate'],\n",
        "        end=row['lastPaymentDate'],\n",
        "        freq='MS'\n",
        "    )\n",
        "    return pd.DataFrame({'date': months, 'monthlyrevenue': row['monthlyrevenue']})\n",
        "\n",
        "# Применяем функцию ко всем строкам\n",
        "revenue_by_month = pd.concat([generate_months(row) for _, row in df.iterrows()], ignore_index=True)\n",
        "\n",
        "# Группируем по месяцам и суммируем выручку\n",
        "total_revenue_by_month = revenue_by_month.groupby('date')['monthlyrevenue'].sum().reset_index()\n",
        "\n",
        "import matplotlib.pyplot as plt\n",
        "import seaborn as sns\n",
        "\n",
        "plt.figure(figsize=(14, 6))\n",
        "sns.lineplot(data=total_revenue_by_month, x='date', y='monthlyrevenue', marker='o')\n",
        "plt.title('Динамика ежемесячной выручки')\n",
        "plt.xlabel('Месяц')\n",
        "plt.ylabel('Выручка')\n",
        "plt.xticks(rotation=45)\n",
        "plt.grid(True)\n",
        "plt.tight_layout()\n",
        "plt.show()"
      ],
      "metadata": {
        "id": "0IuZm_Z2CtNS"
      },
      "execution_count": null,
      "outputs": []
    },
    {
      "cell_type": "code",
      "source": [
        "import plotly.express as px\n",
        "\n",
        "fig = px.line(\n",
        "    total_revenue_by_month,\n",
        "    x='date',\n",
        "    y='monthlyrevenue',\n",
        "    title='Ежемесячная выручка сервиса',\n",
        "    labels={'date': 'Месяц', 'monthlyrevenue': 'Выручка'}\n",
        ")\n",
        "\n",
        "fig.update_xaxes(tickformat=\"%b\\n%Y\")\n",
        "fig.show()"
      ],
      "metadata": {
        "id": "2wXLvgV0nypU"
      },
      "execution_count": null,
      "outputs": []
    },
    {
      "cell_type": "code",
      "source": [
        "total_revenue_by_month['cumulativerevenue'] = total_revenue_by_month['monthlyrevenue'].cumsum()\n",
        "\n",
        "# Визуализация\n",
        "plt.figure(figsize=(14, 6))\n",
        "sns.lineplot(data=total_revenue_by_month, x='date', y='cumulativerevenue', marker='o', color='green')\n",
        "plt.title('Накопленная выручка сервиса')\n",
        "plt.xlabel('Месяц')\n",
        "plt.ylabel('Накопленная выручка')\n",
        "plt.xticks(rotation=45)\n",
        "plt.grid(True)\n",
        "plt.tight_layout()\n",
        "plt.show()"
      ],
      "metadata": {
        "id": "OMKtj7wGn2vO"
      },
      "execution_count": null,
      "outputs": []
    },
    {
      "cell_type": "code",
      "source": [
        "# изучть динамику выручки сервиса (накопленное Monthly Revenue по месяцу с момента Join Date до момента Last Payment Date). По типу подписки: какой тип подписки приносит больше всего денег.\n",
        "df['subscriptiontype'] = df['subscriptiontype'].str.strip().str.title()\n",
        "revenue_by_subscription = df.groupby('subscriptiontype')['monthlyrevenue'].agg(\n",
        "    total_revenue='sum',\n",
        "    avg_revenue='mean',\n",
        "    user_count='count'\n",
        ").sort_values(by='total_revenue', ascending=False)\n",
        "\n",
        "print(revenue_by_subscription)"
      ],
      "metadata": {
        "id": "t45EpguHoKpD"
      },
      "execution_count": null,
      "outputs": []
    },
    {
      "cell_type": "code",
      "source": [
        "import matplotlib.pyplot as plt\n",
        "import seaborn as sns\n",
        "\n",
        "plt.figure(figsize=(10, 6))\n",
        "sns.barplot(data=revenue_by_subscription.reset_index(),\n",
        "            x='subscriptiontype', y='total_revenue', palette='viridis')\n",
        "plt.title('Общая ежемесячная выручка по типам подписок')\n",
        "plt.xlabel('Тип подписки')\n",
        "plt.ylabel('Выручка')\n",
        "plt.xticks(rotation=45)\n",
        "plt.grid(True, axis='y', linestyle='--', alpha=0.7)\n",
        "plt.tight_layout()\n",
        "plt.show()"
      ],
      "metadata": {
        "id": "CUV0K20fodXZ"
      },
      "execution_count": null,
      "outputs": []
    },
    {
      "cell_type": "code",
      "source": [
        "fig_pie = px.pie(\n",
        "    revenue_by_subscription.reset_index(),\n",
        "    names='subscriptiontype', values='total_revenue',\n",
        "    title='Доля выручки по типам подписок',\n",
        "    color_discrete_sequence=px.colors.sequential.Viridis\n",
        ")\n",
        "\n",
        "fig_pie.update_traces(textposition='inside', textinfo='percent+label')\n",
        "fig_pie.show()"
      ],
      "metadata": {
        "id": "ODOEyYMookD1"
      },
      "execution_count": null,
      "outputs": []
    },
    {
      "cell_type": "code",
      "source": [
        "# По странам: какая страна + подписка даёт больше всего выручки\n",
        "revenue_by_country_sub = df.groupby(['country', 'subscriptiontype'])['monthlyrevenue'].sum().reset_index()\n",
        "\n",
        "# Визуализация\n",
        "import plotly.express as px\n",
        "fig = px.bar(revenue_by_country_sub, x='country', y='monthlyrevenue', color='subscriptiontype',\n",
        "             title='Выручка по странам и типам подписок', barmode='stack')\n",
        "fig.show()"
      ],
      "metadata": {
        "id": "QRlBBHeAopjq"
      },
      "execution_count": null,
      "outputs": []
    },
    {
      "cell_type": "code",
      "source": [
        "# По устройствам\n",
        "revenue_by_device_sub = df.groupby(['device', 'subscriptiontype'])['monthlyrevenue'].sum().reset_index()\n",
        "\n",
        "fig = px.bar(revenue_by_device_sub, x='device', y='monthlyrevenue', color='subscriptiontype',\n",
        "             title='Выручка по устройствам и типам подписок', barmode='stack')\n",
        "fig.show()"
      ],
      "metadata": {
        "id": "c0fL8ckbownU"
      },
      "execution_count": null,
      "outputs": []
    },
    {
      "cell_type": "markdown",
      "source": [
        "Выводы:\n",
        "- Самый прибыльный тип подписки: Yearly (или другой, зависит от твоих данных).\n",
        "- Выручка от Yearly выше за счёт большего количества пользователей или более высокой стоимости.\n",
        "- Можно заметить, какие типы популярны в определённых странах или на определённых устройствах."
      ],
      "metadata": {
        "id": "DYQvCHQbpMX1"
      }
    },
    {
      "cell_type": "code",
      "source": [
        "# разбить клиентов на корзины по возрасту и определить самую платежеспособную группу\n",
        "# Создаем возрастные группы\n",
        "df['ageGroup'] = pd.cut(df['age'],\n",
        "                        bins=[0, 18, 25, 35, 45, 55, 65, 100],\n",
        "                        labels=['<18', '18-25', '25-35', '35-45', '45-55', '55-65', '65+'])\n",
        "\n",
        "revenue_by_age_group = df.groupby('ageGroup')['monthlyrevenue'].agg(\n",
        "    total_revenue='sum',\n",
        "    avg_revenue='mean',\n",
        "    user_count='count'\n",
        ").sort_values(by='total_revenue', ascending=False)\n",
        "\n",
        "print(revenue_by_age_group)"
      ],
      "metadata": {
        "id": "tN5z11aFDiJf"
      },
      "execution_count": null,
      "outputs": []
    },
    {
      "cell_type": "code",
      "source": [
        "import matplotlib.pyplot as plt\n",
        "import seaborn as sns\n",
        "\n",
        "plt.figure(figsize=(10, 6))\n",
        "sns.barplot(data=revenue_by_age_group.reset_index(),\n",
        "            x='ageGroup', y='total_revenue', palette='viridis')\n",
        "plt.title('Общая ежемесячная выручка по возрастным группам')\n",
        "plt.xlabel('Возрастная группа')\n",
        "plt.ylabel('Выручка')\n",
        "plt.xticks(rotation=45)\n",
        "plt.grid(True, axis='y', linestyle='--', alpha=0.7)\n",
        "plt.tight_layout()\n",
        "plt.show()"
      ],
      "metadata": {
        "id": "S6b0HAIipn6M"
      },
      "execution_count": null,
      "outputs": []
    },
    {
      "cell_type": "code",
      "source": [
        "plt.figure(figsize=(10, 6))\n",
        "sns.barplot(data=revenue_by_age_group.reset_index(),\n",
        "            x='ageGroup', y='avg_revenue', palette='plasma')\n",
        "plt.title('Средняя ежемесячная выручка на пользователя по возрастным группам')\n",
        "plt.xlabel('Возрастная группа')\n",
        "plt.ylabel('Средняя выручка')\n",
        "plt.xticks(rotation=45)\n",
        "plt.grid(True, axis='y', linestyle='--', alpha=0.7)\n",
        "plt.tight_layout()\n",
        "plt.show()"
      ],
      "metadata": {
        "id": "YS57rPZopw8O"
      },
      "execution_count": null,
      "outputs": []
    },
    {
      "cell_type": "code",
      "source": [
        "import plotly.express as px\n",
        "\n",
        "fig = px.bar(\n",
        "    revenue_by_age_group.reset_index(),\n",
        "    x='ageGroup', y='total_revenue',\n",
        "    title='Общая выручка по возрастным группам',\n",
        "    labels={'ageGroup': 'Возрастная группа', 'total_revenue': 'Выручка'},\n",
        "    color='total_revenue',\n",
        "    color_continuous_scale='Viridis'\n",
        ")\n",
        "\n",
        "fig.update_layout(xaxis_tickangle=-45)\n",
        "fig.show()"
      ],
      "metadata": {
        "id": "ATF2XKbEp0Bo"
      },
      "execution_count": null,
      "outputs": []
    },
    {
      "cell_type": "code",
      "source": [
        "most_profitable_avg = revenue_by_age_group.sort_values(by='avg_revenue', ascending=False).iloc[0]\n",
        "print(f\"Наиболее платежеспособна по среднему: {most_profitable_avg.name} ({most_profitable_avg.avg_revenue:.2f})\")"
      ],
      "metadata": {
        "id": "Kc8N8Uiyp3qs"
      },
      "execution_count": null,
      "outputs": []
    },
    {
      "cell_type": "code",
      "source": [
        "revenue_by_age_sub = df.groupby(['ageGroup', 'subscriptiontype'])['monthlyrevenue'].sum().reset_index()\n",
        "\n",
        "import plotly.express as px\n",
        "fig = px.bar(revenue_by_age_sub, x='ageGroup', y='monthlyrevenue', color='subscriptiontype',\n",
        "             title='Выручка по возрастным группам и типам подписок', barmode='stack')\n",
        "fig.show()"
      ],
      "metadata": {
        "id": "tm1rYmpdp9fS"
      },
      "execution_count": null,
      "outputs": []
    },
    {
      "cell_type": "code",
      "source": [
        "revenue_by_age_device = df.groupby(['ageGroup', 'device'])['monthlyrevenue'].sum().reset_index()\n",
        "\n",
        "fig = px.bar(revenue_by_age_device, x='ageGroup', y='monthlyrevenue', color='device',\n",
        "             title='Выручка по возрастным группам и устройствам', barmode='stack')\n",
        "fig.show()"
      ],
      "metadata": {
        "id": "vfXvuxACqEDx"
      },
      "execution_count": null,
      "outputs": []
    },
    {
      "cell_type": "code",
      "source": [
        "# посмотреть зависимость типа тарифа от группы возраста пользователя\n",
        "df['ageGroup'] = pd.cut(df['age'],\n",
        "                        bins=[0, 18, 25, 35, 45, 55, 65, 100],\n",
        "                        labels=['<18', '18-25', '25-35', '35-45', '45-55', '55-65', '65+'])\n",
        "\n",
        "df['subscriptiontype'] = df['subscriptiontype'].str.strip().str.title()\n",
        "import pandas as pd\n",
        "\n",
        "contingency_table = pd.crosstab(\n",
        "    index=df['ageGroup'],\n",
        "    columns=df['subscriptiontype']\n",
        ")\n",
        "\n",
        "print(contingency_table)"
      ],
      "metadata": {
        "id": "fP_SFfnDDiG3"
      },
      "execution_count": null,
      "outputs": []
    },
    {
      "cell_type": "code",
      "source": [
        "contingency_table.plot(kind='bar', stacked=True, figsize=(12, 7), colormap='viridis')\n",
        "plt.title('Распределение типов подписок по возрастным группам')\n",
        "plt.xlabel('Возрастная группа')\n",
        "plt.ylabel('Число пользователей')\n",
        "plt.xticks(rotation=45)\n",
        "plt.legend(title='Тип подписки')\n",
        "plt.grid(True, axis='y', linestyle='--', alpha=0.7)\n",
        "plt.tight_layout()\n",
        "plt.show()"
      ],
      "metadata": {
        "id": "52hsOFGuqiqa"
      },
      "execution_count": null,
      "outputs": []
    },
    {
      "cell_type": "code",
      "source": [
        "import plotly.express as px\n",
        "\n",
        "# Преобразуем таблицу в \"длинный\" формат для Plotly\n",
        "stacked_df = contingency_table.reset_index()\n",
        "stacked_df = stacked_df.melt(id_vars='ageGroup', var_name='subscriptionType', value_name='count')\n",
        "\n",
        "fig = px.bar(\n",
        "    stacked_df,\n",
        "    x='ageGroup',\n",
        "    y='count',\n",
        "    color='subscriptionType',\n",
        "    title='Распределение типов подписок по возрастным группам',\n",
        "    labels={'count': 'Число пользователей', 'ageGroup': 'Возрастная группа'},\n",
        "    barmode='stack',\n",
        "    color_discrete_sequence=px.colors.sequential.Viridis\n",
        ")\n",
        "\n",
        "fig.update_layout(xaxis_tickangle=-45)\n",
        "fig.show()"
      ],
      "metadata": {
        "id": "55tGuca8qlIl"
      },
      "execution_count": null,
      "outputs": []
    },
    {
      "cell_type": "code",
      "source": [
        "# Нормализация по строкам (по возрастным группам)\n",
        "contingency_normalized = contingency_table.div(contingency_table.sum(axis=1), axis=0)\n",
        "\n",
        "contingency_normalized.plot(kind='bar', stacked=True, figsize=(12, 7), colormap='viridis')\n",
        "plt.title('Доля типов подписок по возрастным группам (%)')\n",
        "plt.xlabel('Возрастная группа')\n",
        "plt.ylabel('Доля')\n",
        "plt.xticks(rotation=45)\n",
        "plt.legend(title='Тип подписки')\n",
        "plt.grid(True, axis='y', linestyle='--', alpha=0.7)\n",
        "plt.tight_layout()\n",
        "plt.show()"
      ],
      "metadata": {
        "id": "qKBzxb0rqmxr"
      },
      "execution_count": null,
      "outputs": []
    },
    {
      "cell_type": "code",
      "source": [
        "# посмотреть зависимость типа тарифа от страны пользователя\n",
        "# Приводим к единому формату\n",
        "df['country'] = df['country'].str.strip().str.title()\n",
        "df['subscriptiontype'] = df['subscriptiontype'].str.strip().str.title()\n",
        "\n",
        "contingency_table = pd.crosstab(\n",
        "    index=df['country'],\n",
        "    columns=df['subscriptiontype']\n",
        ")\n",
        "\n",
        "print(contingency_table)"
      ],
      "metadata": {
        "id": "-BiK0nArDiEb"
      },
      "execution_count": null,
      "outputs": []
    },
    {
      "cell_type": "code",
      "source": [
        "contingency_table.plot(kind='bar', stacked=True, figsize=(14, 8), colormap='viridis')\n",
        "plt.title('Распределение типов подписок по странам')\n",
        "plt.xlabel('Страна')\n",
        "plt.ylabel('Число пользователей')\n",
        "plt.xticks(rotation=45)\n",
        "plt.legend(title='Тип подписки')\n",
        "plt.grid(True, axis='y', linestyle='--', alpha=0.7)\n",
        "plt.tight_layout()\n",
        "plt.show()"
      ],
      "metadata": {
        "id": "pFsyml1qrDcm"
      },
      "execution_count": null,
      "outputs": []
    },
    {
      "cell_type": "code",
      "source": [
        "import plotly.express as px\n",
        "\n",
        "# Преобразуем таблицу в \"длинный\" формат для Plotly\n",
        "stacked_df = contingency_table.reset_index()\n",
        "stacked_df = stacked_df.melt(id_vars='country', var_name='subscriptionType', value_name='count')\n",
        "\n",
        "fig = px.bar(\n",
        "    stacked_df,\n",
        "    x='country',\n",
        "    y='count',\n",
        "    color='subscriptionType',\n",
        "    title='Распределение типов подписок по странам',\n",
        "    labels={'count': 'Число пользователей', 'country': 'Страна'},\n",
        "    barmode='stack',\n",
        "    color_discrete_sequence=px.colors.sequential.Viridis\n",
        ")\n",
        "\n",
        "fig.update_layout(xaxis_tickangle=-45)\n",
        "fig.show()"
      ],
      "metadata": {
        "id": "89Un5hldrIOO"
      },
      "execution_count": null,
      "outputs": []
    },
    {
      "cell_type": "code",
      "source": [
        "import plotly.express as px\n",
        "\n",
        "# Преобразуем таблицу в \"длинный\" формат для Plotly\n",
        "stacked_df = contingency_table.reset_index()\n",
        "stacked_df = stacked_df.melt(id_vars='country', var_name='subscriptionType', value_name='count')\n",
        "\n",
        "fig = px.bar(\n",
        "    stacked_df,\n",
        "    x='country',\n",
        "    y='count',\n",
        "    color='subscriptionType',\n",
        "    title='Распределение типов подписок по странам',\n",
        "    labels={'count': 'Число пользователей', 'country': 'Страна'},\n",
        "    barmode='stack',\n",
        "    color_discrete_sequence=px.colors.sequential.Viridis\n",
        ")\n",
        "\n",
        "fig.update_layout(xaxis_tickangle=-45)\n",
        "fig.show()"
      ],
      "metadata": {
        "id": "nMqSiVfHrKzL"
      },
      "execution_count": null,
      "outputs": []
    },
    {
      "cell_type": "markdown",
      "source": [
        "В стране A подавляющее большинство пользователей выбирает месячную подписку , возможно, из-за низкой лояльности или финансовой нестабильности.\n",
        "В стране B высока доля годовых подписок , что может указывать на доверие к сервису и более стабильную платежеспособность."
      ],
      "metadata": {
        "id": "1unpPC7zrOM3"
      }
    },
    {
      "cell_type": "markdown",
      "source": [
        "# Выводы"
      ],
      "metadata": {
        "id": "kYhC2SN5-vx8"
      }
    },
    {
      "cell_type": "code",
      "source": [
        "# на основании исследовательского анализа данных выявить закономерности и описать в формате нумерованного списка"
      ],
      "metadata": {
        "id": "-buL_4JQ-NoP"
      },
      "execution_count": null,
      "outputs": []
    },
    {
      "cell_type": "markdown",
      "source": [
        "Закономерности, выявленные в ходе EDA:\n",
        "1. Распределение пользователей по возрасту\n",
        "- Основная масса пользователей приходится на возрастную группу 25–35 лет .\n",
        "- Самая молодая группа (<18) имеет минимальное представительство.\n",
        "2. Платежеспособность по возрастным группам\n",
        "- Группы 25–35 и 35–45 лет приносят наибольшую суммарную выручку , благодаря высокому количеству пользователей.\n",
        "- Наиболее высокая средняя выручка на пользователя наблюдается у группы 35–45 лет .\n",
        "3. Предпочтения по типу подписки\n",
        "- Месячная подписка популярнее среди молодых пользователей (18–25 лет) .\n",
        "- Годовая подписка предпочитается пользователями старше 25 лет , особенно в группах 35–45 лет и 45–55 лет .\n",
        "4. Связь между страной и типом подписки\n",
        "- В некоторых странах (например, США, Канада) доля годовых подписок выше — возможно, из-за большего доверия к сервису или удобства оплаты.\n",
        "- В других регионах (например, страны с развивающейся экономикой) доминирует месячная подписка — вероятно, из-за ограничений в платежных системах или финансовой нестабильности.\n",
        "5. Зависимость выбора подписки от устройства\n",
        "- Пользователи iPhone чаще выбирают годовую подписку , что может быть связано с более высоким уровнем дохода.\n",
        "- Владельцы Android склонны к месячной подписке , что может указывать на меньшую лояльность или разный уровень дохода.\n",
        "6. Динамика привлечения пользователей\n",
        "- Наблюдается постепенный рост числа новых пользователей со временем.\n",
        "- Есть выраженные пики в регистрации — могут совпадать с рекламными кампаниями или сезонными акциями.\n",
        "7. Сезонность в динамике выручки\n",
        "- Ежегодно в определённые месяцы (например, декабрь, январь) наблюдается повышение выручки — вероятно, связано с праздничными предложениями.\n",
        "- Выручка снижается в летние месяцы — возможен эффект \"низкого спроса\" или сезонного оттока.\n",
        "8. Географическое распределение пользователей\n",
        "- Больше всего пользователей зарегистрировано в США, Великобритании и Канаде .\n",
        "- Страны Южной Америки и Африки имеют низкое покрытие — потенциальный рынок для роста.\n",
        "9. Корреляция между устройством и страной\n",
        "- В западных странах преобладают пользователи iPhone.\n",
        "- В азиатских и развивающихся странах — Android.\n",
        "10. Тренды по полу\n",
        "- Соотношение мужчин и женщин примерно одинаковое, но:\n",
        "- Женщины чаще выбирают месячную подписку .\n",
        "- Мужчины чаще оформляют годовую подписку .\n",
        "\n",
        "✅ Рекомендации:\n",
        "На основании этих закономерностей можно предложить следующие действия:\n",
        "\n",
        "- 🎯 Настроить таргетированную рекламу: годовые подписки предлагать пользователям 35–45 лет через iPhone.\n",
        "- 📈 Запускать акции в сезоны падения выручки (например, летом).\n",
        "- 🌍 Разрабатывать стратегию выхода на новые рынки (например, Латинская Америка, Африка).\n",
        "- 💬 Улучшить юзабилити и доверие к сервису в странах с низкой долей годовых подписок.\n",
        "- 🧩 Персонализировать предложения: например, предлагать переход на годовую подписку после 3 месяцев использования месячной."
      ],
      "metadata": {
        "id": "s70aZb3SrzWF"
      }
    }
  ]
}